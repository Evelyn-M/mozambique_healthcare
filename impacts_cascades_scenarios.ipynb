{
 "cells": [
  {
   "cell_type": "code",
   "execution_count": 1,
   "id": "88915cb9",
   "metadata": {},
   "outputs": [],
   "source": [
    "#!/usr/bin/env python3\n",
    "# -*- coding: utf-8 -*-\n",
    "\"\"\"\n",
    "Created on Tue Jun 28 11:55:57 2022\n",
    "\n",
    "@author: evelynm\n",
    "---\n",
    "Parallel calculation per hazard via impact cascade to saving results.\n",
    "\n",
    "\"\"\"\n",
    "\n",
    "import os\n",
    "import sys\n",
    "import geopandas as gpd\n",
    "from copy import copy\n",
    "import numpy as np\n",
    "import pandas as pd\n",
    "import pickle\n",
    "import shapely\n",
    "from multiprocessing import Pool\n",
    "import itertools\n",
    "from datetime import datetime\n",
    "import copy\n",
    "\n",
    "from climada.entity.exposures.base import Exposures\n",
    "from climada.entity.impact_funcs import ImpactFunc, ImpactFuncSet\n",
    "from climada.engine import Impact\n",
    "from climada.hazard.base import Hazard, Centroids\n",
    "from climada.hazard import TCTracks, TropCyclone\n",
    "from climada.util import lines_polys_handler as u_lp\n",
    "from climada.util import coordinates as u_coord\n",
    "from climada.util.api_client import Client\n",
    "\n",
    "from climada_petals.engine.networks.nw_base import Network\n",
    "from climada_petals.engine.networks.nw_calcs import Graph\n",
    "import climada_petals.engine.networks.nw_utils as nwu\n",
    "\n",
    "\n",
    "START_STR = '01-01-1980'\n",
    "END_STR = '31-12-2020'\n",
    "\n",
    "# =============================================================================\n",
    "# Impact Class Defs\n",
    "# =============================================================================\n",
    "\n",
    "class ImpFuncsCIFlood():\n",
    "    \n",
    "    def __init__(self):\n",
    "        self.tag = 'FL'\n",
    "        self.road = self.step_impf() # for edges!\n",
    "        self.health = self.health_level_1_impf()\n",
    "        self.education = self.step_impf()\n",
    "        self.power_line_e = self.no_impf() # for edges!\n",
    "        self.power_line_n = self.step_impf() # for nodes!\n",
    "        self.power_tower = self.no_impf()\n",
    "        self.power_plant = self.no_impf()\n",
    "        self.water_plant = self.no_impf()\n",
    "        self.celltower = self.step_impf()\n",
    "        self.people = self.step_impf()\n",
    "        \n",
    "    def step_impf(self):\n",
    "        step_impf = ImpactFunc() \n",
    "        step_impf.id = 1\n",
    "        step_impf.haz_type = 'FL'\n",
    "        step_impf.name = 'Step function flood'\n",
    "        step_impf.intensity_unit = ''\n",
    "        step_impf.intensity = np.array([0, 0.95,0.955, 1])\n",
    "        step_impf.mdd =       np.array([0, 0, 1, 1])\n",
    "        step_impf.paa =       np.sort(np.linspace(1, 1, num=4))\n",
    "        step_impf.check()\n",
    "        return step_impf\n",
    "    \n",
    "    def health_level_1_impf(self):\n",
    "        step_impf = ImpactFunc()\n",
    "        step_impf.id = 1\n",
    "        step_impf.haz_type = 'FL'\n",
    "        step_impf.name = 'Step function flood'\n",
    "        step_impf.intensity_unit = ''\n",
    "        step_impf.intensity = np.array([0, 1])\n",
    "        step_impf.mdd = np.array([0, 0.81])\n",
    "        step_impf.paa = np.sort(np.linspace(1, 1, num=2))\n",
    "        step_impf.check()\n",
    "        return step_impf\n",
    "    \n",
    "    def no_impf(self):\n",
    "        no_impf = ImpactFunc() \n",
    "        no_impf.id = 2\n",
    "        no_impf.haz_type = 'FL'\n",
    "        no_impf.name = 'No impact function flood'\n",
    "        no_impf.intensity_unit = ''\n",
    "        no_impf.intensity = np.array([0, 1])\n",
    "        no_impf.mdd =       np.array([0, 0])\n",
    "        no_impf.paa =       np.sort(np.linspace(1, 1, num=2))\n",
    "        no_impf.check()\n",
    "        return no_impf\n",
    "\n",
    "\n",
    "class ImpFuncsCIWind():\n",
    "    \n",
    "    def __init__(self):\n",
    "        self.tag = 'TC'\n",
    "        self.road = self.road_impf() # for edges!\n",
    "        self.education = self.resid_impf()\n",
    "        self.health = self.indus_impf()\n",
    "        self.power_line_e = self.pl_impf() # for edges!\n",
    "        self.power_line_n = self.no_impf() # for nodes!\n",
    "        self.power_tower = self.pt_impf()\n",
    "        self.power_plant = self.no_impf()\n",
    "        self.water_plant = self.no_impf()\n",
    "        self.celltower = self.tele_impf()\n",
    "        self.people = self.people_impf()\n",
    "        \n",
    "    def road_impf(self):\n",
    "        # Road adapted from Koks et al. 2019 (tree blowdown on road > 42 m/s)\n",
    "        # anecdotal case-study Mühlhofer et al. 2022 (over-estimate) that for 42 m/s all roads sustain 100% damage\n",
    "        # --> sigmoid function with v 1/2 at 42 m/s and max dmg at 50%\n",
    "        v_eval = np.linspace(0, 120, num=120)\n",
    "        L=50\n",
    "        k=0.3\n",
    "        x0=42\n",
    "        mdd = []\n",
    "        for v in v_eval:\n",
    "            mdd.append(L/(1 + np.exp(-k * (v-x0)))/100)\n",
    "        impf_road = ImpactFunc() \n",
    "        impf_road.id = 2\n",
    "        impf_road.haz_type = 'TC'\n",
    "        impf_road.name = 'Road dmg function for tree blowdown from strong winds'\n",
    "        impf_road.intensity_unit = 'm/s'\n",
    "        impf_road.intensity = np.array(v_eval)\n",
    "        impf_road.mdd = np.array(mdd)\n",
    "        impf_road.paa = np.sort(np.linspace(1, 1, num=120))\n",
    "        impf_road.check()\n",
    "        return impf_road\n",
    "    \n",
    "    def resid_impf(self):\n",
    "        # adapted from figure H.13 (residential 2-story building) loss function, Hazus TC 2.1 (p.940)\n",
    "        # medium terrain roughness parameter (z_theta = 0.35)\n",
    "        impf_educ = ImpactFunc() \n",
    "        impf_educ.id = 5\n",
    "        impf_educ.tag = 'TC educ'\n",
    "        impf_educ.haz_type = 'TC'\n",
    "        impf_educ.name = 'Loss func. residental building z0 = 0.35'\n",
    "        impf_educ.intensity_unit = 'm/s'\n",
    "        impf_educ.intensity = np.array([0, 30, 60, 80, 100, 120, 140, 160, 180, 200, 260]) / 2.237\n",
    "        impf_educ.mdd =       np.array([0, 0,  5,  20,  50,  80,  98,  80,  98, 100, 100]) / 100\n",
    "        impf_educ.paa = np.sort(np.linspace(1, 1, num=11))\n",
    "        impf_educ.check()\n",
    "        return impf_educ\n",
    "\n",
    "    def indus_impf(self):\n",
    "        # adapted from figure N.1 (industrial 2 building) loss function, Hazus TC 2.1 (p.1115)\n",
    "        # medium terrain roughness parameter (z_theta = 0.35)\n",
    "        impf_indus = ImpactFunc() \n",
    "        impf_indus.id = 4\n",
    "        impf_indus.haz_type = 'TC'\n",
    "        impf_indus.name = 'Loss func. industrial building z0 = 0.35'\n",
    "        impf_indus.intensity_unit = 'm/s'\n",
    "        impf_indus.intensity = np.array([0, 30, 60, 80, 100, 120, 140, 160, 180, 200, 260]) / 2.237 \n",
    "        impf_indus.mdd =       np.array([0, 0,   0,   5,  15,  70,  98, 100, 100, 100, 100]) / 100\n",
    "        impf_indus.paa = np.sort(np.linspace(1, 1, num=11))\n",
    "        impf_indus.check()\n",
    "        return impf_indus\n",
    "        \n",
    "    def no_impf(self):\n",
    "        impf_none = ImpactFunc() \n",
    "        impf_none.id = 6\n",
    "        impf_none.haz_type = 'TC'\n",
    "        impf_none.name = 'No-impact func'\n",
    "        impf_none.intensity_unit = 'm/s'\n",
    "        impf_none.intensity = np.array([0,  140])  \n",
    "        impf_none.mdd =       np.array([0, 0 ])         \n",
    "        impf_none.paa = np.sort(np.linspace(1, 1, num=2))\n",
    "        impf_none.check()\n",
    "        return impf_none\n",
    "\n",
    "    def tele_impf(self):\n",
    "        # adapted from newspaper articles (\"cell towers to withstand up to 110 mph\")\n",
    "        impf_tele = ImpactFunc() \n",
    "        impf_tele.id = 3\n",
    "        impf_tele.haz_type = 'TC'\n",
    "        impf_tele.name = 'Loss func. cell tower'\n",
    "        impf_tele.intensity_unit = 'm/s'\n",
    "        impf_tele.intensity = np.array([0, 80, 100, 260]) / 2.237 #np.linspace(0, 120, num=13)\n",
    "        impf_tele.mdd =       np.array([0,  0, 100,  100]) / 100\n",
    "        impf_tele.paa = np.sort(np.linspace(1, 1, num=4))\n",
    "        impf_tele.check()\n",
    "        return impf_tele\n",
    "   \n",
    "    def p_fail_pl(self, v_eval, v_crit=30, v_coll=60):\n",
    "        \"\"\"\n",
    "        adapted from  https://ieeexplore.ieee.org/stamp/stamp.jsp?tp=&arnumber=7801854\n",
    "         Vulnerability Assessment for Power Transmission Lines under Typhoon \n",
    "        Weather Based on a Cascading Failure State Transition Diagram\n",
    "        \"\"\"\n",
    "        p_fail = []\n",
    "        for v in v_eval:\n",
    "            p = 0\n",
    "            if (v > v_crit) & (v < v_coll):\n",
    "                p = np.exp(0.6931*(v-v_crit)/v_crit)-1\n",
    "            elif v > v_coll:\n",
    "                p = 1\n",
    "            p_fail.append(p)\n",
    "        return p_fail\n",
    "    \n",
    "    def pl_impf(self, v_crit=30, v_coll=60):\n",
    "        # Power line\n",
    "        v_eval = np.linspace(0, 120, num=120)\n",
    "        p_fail_powerlines = self.p_fail_pl(v_eval, v_crit=v_crit, v_coll=v_coll)\n",
    "        impf_prob = ImpactFunc() \n",
    "        impf_prob.id = 1\n",
    "        impf_prob.tag = 'PL_Prob'\n",
    "        impf_prob.haz_type = 'TC'\n",
    "        impf_prob.name = 'power line failure prob'\n",
    "        impf_prob.intensity_unit = 'm/s'\n",
    "        impf_prob.intensity = np.array(v_eval)\n",
    "        impf_prob.mdd = np.array(p_fail_powerlines)\n",
    "        impf_prob.paa = np.sort(np.linspace(1, 1, num=120))\n",
    "        impf_prob.check()\n",
    "        return impf_prob\n",
    "    \n",
    "    def p_fail_powertower(self, v_eval, L=97.2, x0=77.8, k=0.3):\n",
    "        \"\"\"\n",
    "        L=95, x0=80, k=0.1:\n",
    "        adapted from https://ieeexplore.ieee.org/stamp/stamp.jsp?tp=&arnumber=7801854&tag=1,\n",
    "        based on 'base' class tower\n",
    "        \n",
    "        L=97.2, x0=77.8, k=0.3: adapted from https://arxiv.org/abs/2107.06072 Fragility curves for \n",
    "        power transmission towers in Odisha, India, \n",
    "        based on observed damage during 2019 Cyclone Fani; based on functionality disruption curve\n",
    "        \"\"\"\n",
    "        p_fail = []\n",
    "        for v in v_eval:\n",
    "            p_fail.append(L/(1 + np.exp(-k * (v-x0)))/100)        \n",
    "        return p_fail\n",
    "    \n",
    "    def pt_impf(self):\n",
    "        # Power tower impact function \n",
    "        v_eval = np.linspace(0, 140, num=140)\n",
    "        p_fail_powertower = self.p_fail_powertower(v_eval, L=95, x0=80, k=0.1) \n",
    "        impf_pt = ImpactFunc() \n",
    "        impf_pt.id = 8\n",
    "        impf_pt.haz_type = 'TC'\n",
    "        impf_pt.name = 'Disruption func. for power towers from strong winds'\n",
    "        impf_pt.intensity_unit = 'm/s'\n",
    "        impf_pt.intensity = np.array(v_eval)\n",
    "        impf_pt.mdd = np.array(p_fail_powertower)\n",
    "        impf_pt.paa = np.sort(np.linspace(1, 1, num=140))\n",
    "        impf_pt.check()\n",
    "        return impf_pt\n",
    " \n",
    "    def people_impf(self):\n",
    "        # Mapping of wind field >= hurricane scale 1 (33 m/s)\n",
    "        impf_ppl = ImpactFunc() \n",
    "        impf_ppl.id = 7\n",
    "        impf_ppl.haz_type = 'TC'\n",
    "        impf_ppl.name = 'People - Windfield Mapping >= TC'\n",
    "        impf_ppl.intensity_unit = 'm/s'\n",
    "        impf_ppl.intensity = np.array([0, 32, 33, 80, 100, 120, 140, 160]) \n",
    "        impf_ppl.mdd = np.array([0, 0,   100,  100,   100,  100,  100,  100]) / 100\n",
    "        impf_ppl.paa = np.sort(np.linspace(1, 1, num=8))\n",
    "        impf_ppl.check()\n",
    "        return impf_ppl\n",
    "\n",
    "class ImpFuncsCIQuake():\n",
    "    def __init__(self):\n",
    "        self.tag = 'EQ'\n",
    "        self.road = self.step_impf()\n",
    "        self.education = self.step_impf()\n",
    "        self.health = self.step_impf()\n",
    "        self.power_line = self.step_impf()\n",
    "        self.power_tower = self.step_impf()\n",
    "        self.power_plant = self.step_impf()\n",
    "        self.water_plant = self.step_impf()\n",
    "        self.celltower = self.step_impf()\n",
    "        self.people = self.step_impf()\n",
    "       \n",
    "    def step_impf(self):\n",
    "        step_impf = ImpactFunc() \n",
    "        step_impf.id = 1\n",
    "        step_impf.haz_type = 'EQ'\n",
    "        step_impf.name = 'Step function flood'\n",
    "        step_impf.intensity_unit = ''\n",
    "        step_impf.intensity = np.array([0, 0.95,0.955, 1])\n",
    "        step_impf.mdd =       np.array([0, 0, 1, 1])\n",
    "        step_impf.paa =       np.sort(np.linspace(1, 1, num=4))\n",
    "        step_impf.check()\n",
    "        return step_impf\n",
    "    \n",
    "class ImpactThresh():\n",
    "    def __init__(self):\n",
    "        self.road = 500\n",
    "        self.power_line_e = 500\n",
    "        self.power_line_n = 0.4\n",
    "        self.power_tower = 500\n",
    "        self.celltower = 0.4\n",
    "        self.power_plant = 0.4\n",
    "        self.water_plant = 0.4\n",
    "        self.health = 0.4\n",
    "        self.education = 0.4\n",
    "\n",
    "def ImpfClassDict():\n",
    "    return {\n",
    "        'FL' : ImpFuncsCIFlood(),\n",
    "        'TC' : ImpFuncsCIWind(),\n",
    "        'EQ' : ImpFuncsCIQuake()\n",
    "    }\n",
    "# =============================================================================\n",
    "# Hazard loading funcs\n",
    "# =============================================================================\n",
    "\n",
    "def load_wind_idai(cntry_shape, storm_id='2019063S18038'):\n",
    "    tr_idai = TCTracks.from_ibtracs_netcdf(storm_id=storm_id)\n",
    "    tr_idai.equal_timestep()\n",
    "    tc = tr_idai.equal_timestep()\n",
    "    min_lat, max_lat, min_lon, max_lon = cntry_shape.bounds[1], cntry_shape.bounds[3], cntry_shape.bounds[0], cntry_shape.bounds[2]\n",
    "    cent_moz = Centroids.from_pnt_bounds((min_lon, min_lat, max_lon, max_lat), res=0.12)\n",
    "    cent_moz.check()\n",
    "    tc_idai = TropCyclone.from_tracks(tr_idai, centroids=cent_moz)\n",
    "    tc_idai.check()\n",
    "    return tc_idai\n",
    "\n",
    "def load_flood_idai(path_fl_file):\n",
    "    fl_idai = Hazard.from_raster([path_fl_file], dst_crs='epsg:4326', haz_type='FL') \n",
    "    fl_idai.centroids.set_meta_to_lat_lon() #Hazard('FL').from_raster(path_fl_file)\n",
    "    fl_idai.event_name = ['Flood_Idai']\n",
    "    return fl_idai       \n",
    "        \n",
    "# =============================================================================\n",
    "# Impact & cascade calc funcs\n",
    "# =============================================================================\n",
    "\n",
    "def gdf_from_network(df_edges_or_nodes, ci_type):\n",
    "    return df_edges_or_nodes[df_edges_or_nodes['ci_type']==ci_type]\n",
    "\n",
    "def exposure_from_nodes(gdf, tag=None, value=1):\n",
    "    exp_pnt = Exposures(gdf)\n",
    "    exp_pnt.tag = tag if tag is not None else gdf.ci_type.iloc[0]\n",
    "    exp_pnt.gdf['value'] = value\n",
    "    exp_pnt.set_lat_lon()\n",
    "    exp_pnt.check()\n",
    "    return exp_pnt\n",
    "      \n",
    "def exposure_from_edges(gdf, res, tag=None, disagg_met=u_lp.DisaggMethod.FIX, disagg_val=1):\n",
    "    exp_line = Exposures(gdf)\n",
    "    if not disagg_val:\n",
    "        disagg_val = res\n",
    "    exp_pnt = u_lp.exp_geom_to_pnt(exp_line, res=res, to_meters=True, \n",
    "                                   disagg_met=disagg_met, disagg_val=disagg_val)\n",
    "    exp_pnt.tag = tag if tag is not None else gdf.ci_type.iloc[0]\n",
    "    exp_pnt.set_lat_lon()\n",
    "    exp_pnt.check() \n",
    "    return exp_pnt\n",
    "\n",
    "def make_impfset(imp_class):\n",
    "    impfset = ImpactFuncSet()\n",
    "    for attribute in set(imp_class.__dict__.keys()).difference({'tag'}):\n",
    "        impfset.append(getattr(imp_class, attribute))\n",
    "    return impfset\n",
    "\n",
    "def assign_impfs(exp, haz_type, impfclass_dict=ImpfClassDict()):\n",
    "    exp.gdf[f'impf_{haz_type}'] = getattr(impfclass_dict[haz_type], exp.tag).id\n",
    "    \n",
    "def calc_point_impacts(haz, exp, impf_set):\n",
    "    imp = Impact()\n",
    "    imp.calc(exp, impf_set, haz, save_mat=True)\n",
    "    return imp\n",
    "\n",
    "def binary_impact_from_prob(imp, seed=47):\n",
    "    \"\"\"\n",
    "    where impact funcs were given as failure probability on y-axis: sample failure states\n",
    "    e.g. for wind damage to power lines, and wind damage to power towers\n",
    "    \"\"\"\n",
    "    np.random.seed = seed\n",
    "    rand = np.random.random(imp.imp_mat.data.size)\n",
    "    imp.imp_mat.data = np.array([1 if p_fail > rnd else 0 for p_fail, rnd in \n",
    "                                 zip(imp.imp_mat.data, rand)])\n",
    "    return imp\n",
    "\n",
    "def binary_to_origres(imp, orig_res):\n",
    "    \"\"\"\n",
    "    where failure states were sampled, assign real underlying damage value\n",
    "    \"\"\"\n",
    "    imp.imp_mat.data = imp.imp_mat.data*orig_res\n",
    "    return imp\n",
    "\n",
    "def impacts_to_network(imp, exp_tag, ci_network_disr):          \n",
    "    func_states = list(\n",
    "            map(int, imp.imp_mat.toarray().flatten()<=getattr(ImpactThresh(), exp_tag)))\n",
    "    \n",
    "    if exp_tag == 'road':\n",
    "        ci_network_disr.edges.loc[ci_network_disr.edges.ci_type=='road',\n",
    "                                  'func_internal'] = func_states\n",
    "        ci_network_disr.edges.loc[ci_network_disr.edges.ci_type=='road',\n",
    "                                  'imp_dir'] = imp.imp_mat.toarray().flatten()\n",
    "    elif exp_tag in ['power_line_e', 'power_tower']:\n",
    "        # power line edges and power towers are two impacts that are summed on the same exposure\n",
    "        ci_network_disr.edges.loc[ci_network_disr.edges.ci_type=='power_line',\n",
    "                                  'func_internal'] = [np.min(\n",
    "            [func_state, func_internal]) for func_state, func_internal in zip(\n",
    "            func_states, ci_network_disr.edges.loc[ci_network_disr.edges.ci_type=='power_line', 'func_internal'])]\n",
    "        ci_network_disr.edges.loc[ci_network_disr.edges.ci_type=='power_line', 'imp_dir'] += imp.imp_mat.toarray().flatten()\n",
    "        # power lines in one direction need to be impacted also in reverse direction\n",
    "\n",
    "    elif exp_tag=='power_line_n':\n",
    "        ci_network_disr.nodes.loc[\n",
    "                ci_network_disr.nodes.ci_type=='power_line', 'func_internal'] = func_states\n",
    "        ci_network_disr.nodes.loc[\n",
    "                ci_network_disr.nodes.ci_type=='power_line', 'imp_dir'] = imp.imp_mat.toarray().flatten()\n",
    "        \n",
    "    else:\n",
    "        ci_network_disr.nodes.loc[\n",
    "                ci_network_disr.nodes.ci_type==exp_tag, 'func_internal'] = func_states\n",
    "        ci_network_disr.nodes.loc[\n",
    "                ci_network_disr.nodes.ci_type==exp_tag, 'imp_dir'] = imp.imp_mat.toarray().flatten()\n",
    "        \n",
    "    ci_network_disr.edges['func_tot'] = [np.min([func_internal, func_tot]) for \n",
    "                                          func_internal, func_tot in zip(\n",
    "                                              ci_network_disr.edges.func_internal, \n",
    "                                              ci_network_disr.edges.func_tot)]\n",
    "    ci_network_disr.nodes['func_tot'] = [np.min([func_internal, func_tot]) for \n",
    "                                         func_internal, func_tot in zip(\n",
    "                                             ci_network_disr.nodes.func_internal, \n",
    "                                             ci_network_disr.nodes.func_tot)]\n",
    "        \n",
    "    return ci_network_disr\n",
    "\n",
    "\n",
    "def load_friction_surf(PATH_FRICTION, cntry_shape):\n",
    "    friction_surf = Hazard('FRIC').from_raster(\n",
    "    PATH_FRICTION, geometry=[cntry_shape.convex_hull.buffer(0.1)])\n",
    "    return friction_surf\n",
    "\n",
    "# save selected results as feather gdf\n",
    "def save_resultdf(ci_graph_disr, path_save, event_name):\n",
    "    ci_network_disr = ci_graph_disr.return_network()\n",
    "    vars_to_keep_edges = ['ci_type', 'func_internal', 'func_tot', 'imp_dir','geometry']\n",
    "    vars_to_keep_nodes = vars_to_keep_edges.copy() \n",
    "    vars_to_keep_nodes.extend([colname for colname in ci_network_disr.nodes.columns  if 'actual_supply_' in colname])\n",
    "    vars_to_keep_nodes.extend(['counts'])\n",
    "        \n",
    "    df_res = ci_network_disr.nodes[ci_network_disr.nodes.ci_type=='people'][vars_to_keep_nodes]\n",
    "    for ci_type in ['health', 'education', 'celltower', 'power_plant', 'power_line']:\n",
    "        df_res = df_res.append(ci_network_disr.nodes[ci_network_disr.nodes.ci_type==ci_type]\n",
    "                                   [vars_to_keep_nodes])\n",
    "    for ci_type in ['power_line', 'road']:\n",
    "        df_res = df_res.append(ci_network_disr.edges[ci_network_disr.edges.ci_type==ci_type]\n",
    "                                   [vars_to_keep_edges])\n",
    "    df_res.to_feather(path_save+f'cascade_results_{event_name}')\n",
    "\n",
    "def wrapper_impacts_cascades_saving(haz, ci_network, exp_list, df_dependencies, friction_surf):\n",
    "    \"\"\"\n",
    "    Parameters\n",
    "    ----------\n",
    "    haz: Hazard\n",
    "    ci_network : Network\n",
    "    exp_list : [exp_health, exp_educ, exp_celltowers, exp_pplant, exp_pline_n, exp_pline_e, exp_ptower, exp_road]\n",
    "    df_dependencies : pd.DataFrame\n",
    "    friction_surf : Hazard\n",
    "    \n",
    "    Returns\n",
    "    -------\n",
    "    imp_dict : Dict\n",
    "        Basic service impacts compared to baseline\n",
    "    \"\"\"\n",
    "    if not os.path.isfile(path_save+f'cascade_results_{haz.event_name[0]}'):\n",
    "        print(haz.event_name)\n",
    "        # IMPACT CALCS\n",
    "        ci_network_disr = copy.deepcopy(ci_network)\n",
    "        for exp in exp_list:\n",
    "            imp = calc_point_impacts(haz, exp, impf_set)\n",
    "            if (haz_type in ['TC', 'EQ']) & (exp.tag in ['power_line_e', 'power_tower']):\n",
    "                imp = binary_impact_from_prob(imp, seed=47)\n",
    "                imp = binary_to_origres(imp, res_orig)\n",
    "            if exp.tag in ['road', 'power_line_e', 'power_tower']:\n",
    "                imp = u_lp.impact_pnt_agg(imp, exp.gdf, u_lp.AggMethod.SUM)\n",
    "            ci_network_disr = impacts_to_network(imp, exp.tag, ci_network_disr)\n",
    "\n",
    "        # IMPACT CASCADES\n",
    "        ci_graph_disr = Graph(ci_network_disr, directed=True)\n",
    "        ci_graph_disr.cascade(df_dependencies, p_source='power_plant', p_sink='power_line', \n",
    "                              source_var='el_generation', demand_var='el_consumption',\n",
    "                              preselect=False, initial=False, friction_surf=friction_surf, \n",
    "                              dur_thresh=60)\n",
    "\n",
    "        # SAVE RESULTS\n",
    "        save_resultdf(ci_graph_disr, path_save, haz.event_name[0])\n",
    "        # CALC IMPACTSTATS\n",
    "        ci_network_disr = ci_graph_disr.return_network()\n",
    "        imp_dict = nwu.disaster_impact_allservices_df(ci_network.nodes, ci_network_disr.nodes, \n",
    "                                                      services=['power', 'healthcare', 'education', \n",
    "                                                                'telecom', 'mobility'])\n",
    "        return imp_dict\n",
    "    \n",
    "    df_res = gpd.read_feather(path_save+f'cascade_results_{haz.event_name[0]}')\n",
    "    return nwu.disaster_impact_allservices_df(\n",
    "        ci_network.nodes, df_res, \n",
    "        services =['power', 'healthcare', 'education', 'telecom',  'mobility'])\n",
    " \n",
    "def wrapper_impacts_cascades_saving(haz, ci_network, exp_list, df_dependencies, friction_surf):\n",
    "    \"\"\"\n",
    "    Parameters\n",
    "    ----------\n",
    "    haz: Hazard\n",
    "    ci_network : Network\n",
    "    exp_list : [exp_health, exp_educ, exp_celltowers, exp_pplant, exp_pline_n, exp_pline_e, exp_ptower, exp_road]\n",
    "    df_dependencies : pd.DataFrame\n",
    "    friction_surf : Hazard\n",
    "    \n",
    "    Returns\n",
    "    -------\n",
    "    imp_dict : Dict\n",
    "        Basic service impacts compared to baseline\n",
    "    \"\"\"\n",
    "    if not os.path.isfile(path_save+f'cascade_results_{haz.event_name[0]}'):\n",
    "        print(haz.event_name)\n",
    "        # IMPACT CALCS\n",
    "        ci_network_disr = copy.deepcopy(ci_network)\n",
    "        for exp in exp_list:\n",
    "            imp = calc_point_impacts(haz, exp, impf_set)\n",
    "            if (haz_type in ['TC', 'EQ']) & (exp.tag in ['power_line_e', 'power_tower']):\n",
    "                imp = binary_impact_from_prob(imp, seed=47)\n",
    "                imp = binary_to_origres(imp, res_orig)\n",
    "            if exp.tag in ['road', 'power_line_e', 'power_tower']:\n",
    "                imp = u_lp.impact_pnt_agg(imp, exp.gdf, u_lp.AggMethod.SUM)\n",
    "            ci_network_disr = impacts_to_network(imp, exp.tag, ci_network_disr)\n",
    "\n",
    "        # IMPACT CASCADES\n",
    "        ci_graph_disr = Graph(ci_network_disr, directed=True)\n",
    "        ci_graph_disr.cascade(df_dependencies, p_source='power_plant', p_sink='power_line', \n",
    "                              source_var='el_generation', demand_var='el_consumption',\n",
    "                              preselect=False, initial=False, friction_surf=friction_surf, \n",
    "                              dur_thresh=60)\n",
    "\n",
    "        # SAVE RESULTS\n",
    "        save_resultdf(ci_graph_disr, path_save, haz.event_name[0])\n",
    "        # CALC IMPACTSTATS\n",
    "        ci_network_disr = ci_graph_disr.return_network()\n",
    "        imp_dict = nwu.disaster_impact_allservices_df(ci_network.nodes, ci_network_disr.nodes, \n",
    "                                                      services=['power', 'healthcare', 'education', \n",
    "                                                                'telecom', 'mobility'])\n",
    "        return imp_dict\n",
    "    \n",
    "    df_res = gpd.read_feather(path_save+f'cascade_results_{haz.event_name[0]}')\n",
    "    return nwu.disaster_impact_allservices_df(\n",
    "        ci_network.nodes, df_res, \n",
    "        services =['power', 'healthcare', 'education', 'telecom',  'mobility'])\n",
    "     \n"
   ]
  },
  {
   "cell_type": "code",
   "execution_count": 2,
   "id": "2cfc48f9",
   "metadata": {},
   "outputs": [],
   "source": [
    "# =============================================================================\n",
    "# Execution\n",
    "# =============================================================================    \n",
    "cntry = 'Mozambique'\n",
    "haz_type = 'TCFL'\n",
    "iso3 = u_coord.country_to_iso(cntry)\n",
    "path_root = '/cluster/work/climate/evelynm/nw_outputs'\n",
    "path_edges  = f'{path_root}/{iso3}/cis_nw_edges'\n",
    "path_nodes = f'{path_root}/{iso3}/cis_nw_nodes'\n",
    "path_save = f'{path_root}/{iso3}/moz_project/'\n",
    "path_deps = f'{path_root}/{iso3}/dependency_table_{iso3}.csv'\n",
    "path_fl_file = '/cluster/work/climate/evelynm/nw_outputs/MOZ/floodmaks_idai_margherita.tif'\n",
    "PATH_FRICTION = '/cluster/work/climate/evelynm/nw_inputs/friction/202001_Global_Walking_Only_Friction_Surface_2019.tif'\n",
    "    "
   ]
  },
  {
   "cell_type": "code",
   "execution_count": 3,
   "id": "bbbfa8ed",
   "metadata": {},
   "outputs": [],
   "source": [
    "    # LOAD PRE_COMPUTED FILES\n",
    "    ci_network = Network(edges=gpd.read_feather(path_edges), \n",
    "                         nodes=gpd.read_feather(path_nodes))\n",
    "    df_dependencies = pd.read_csv(path_deps)\n",
    "    \n",
    "    __, cntry_shape = u_coord.get_admin1_info([cntry])\n",
    "    cntry_shape = shapely.ops.unary_union([shp for shp in cntry_shape[iso3]])\n",
    "    \n",
    "    friction_surf = load_friction_surf(PATH_FRICTION, cntry_shape)\n"
   ]
  },
  {
   "cell_type": "code",
   "execution_count": 4,
   "id": "bb9c6576",
   "metadata": {},
   "outputs": [
    {
     "name": "stdout",
     "output_type": "stream",
     "text": [
      "2022-11-25 18:02:15,718 - climada.hazard.tc_tracks - WARNING - The cached IBTrACS data set dates from 2022-05-03 17:22:57 (older than 180 days). Very likely, a more recent version is available. Consider manually removing the file /cluster/work/climate/evelynm/climada/data/IBTrACS.ALL.v04r00.nc and re-running this function, which will download the most recent version of the IBTrACS data set from the official URL.\n"
     ]
    }
   ],
   "source": [
    "    # LOAD HAZARD FILES\n",
    "    if haz_type=='FL':\n",
    "        haz = load_flood_idai(path_fl_file)\n",
    "        \n",
    "    elif haz_type=='TC':\n",
    "        haz = load_wind_idai(cntry_shape)"
   ]
  },
  {
   "cell_type": "code",
   "execution_count": 5,
   "id": "068ac778",
   "metadata": {},
   "outputs": [
    {
     "name": "stderr",
     "output_type": "stream",
     "text": [
      "/cluster/apps/nss/gcc-8.2.0/python/3.9.9/x86_64/lib64/python3.9/site-packages/pandas/core/dtypes/cast.py:118: ShapelyDeprecationWarning: The array interface is deprecated and will no longer work in Shapely 2.0. Convert the '.coords' to a numpy array instead.\n",
      "  arr = construct_1d_object_array_from_listlike(values)\n",
      "/cluster/apps/nss/gcc-8.2.0/python/3.9.9/x86_64/lib64/python3.9/site-packages/pandas/core/dtypes/cast.py:118: ShapelyDeprecationWarning: The array interface is deprecated and will no longer work in Shapely 2.0. Convert the '.coords' to a numpy array instead.\n",
      "  arr = construct_1d_object_array_from_listlike(values)\n",
      "/cluster/apps/nss/gcc-8.2.0/python/3.9.9/x86_64/lib64/python3.9/site-packages/pandas/core/dtypes/cast.py:118: ShapelyDeprecationWarning: The array interface is deprecated and will no longer work in Shapely 2.0. Convert the '.coords' to a numpy array instead.\n",
      "  arr = construct_1d_object_array_from_listlike(values)\n"
     ]
    }
   ],
   "source": [
    "    # MAKE EXPOSURES\n",
    "    # point exposures \n",
    "    exp_health = exposure_from_nodes(gdf_from_network(ci_network.nodes, 'health'))\n",
    "    exp_educ = exposure_from_nodes(gdf_from_network(ci_network.nodes, 'education'))\n",
    "    exp_celltowers = exposure_from_nodes(gdf_from_network(ci_network.nodes, 'celltower'))\n",
    "    exp_pplant = exposure_from_nodes(gdf_from_network(ci_network.nodes, 'power_plant'))\n",
    "    exp_pline_n = exposure_from_nodes(gdf_from_network(ci_network.nodes, 'power_line'), tag='power_line_n')\n",
    "\n",
    "    # line exposures    \n",
    "    res_orig = 500\n",
    "    disagg_val_pline = 500 if haz_type=='FL' else 1 # damage fraction on y-axis for FL, failure prob on y-axis for EQ and TC\n",
    "    disagg_val_road = res_orig # damage fraction on y-axis\n",
    "    \n",
    "    exp_pline_e = exposure_from_edges(gdf_from_network(ci_network.edges, 'power_line'),\n",
    "                                      res=res_orig, disagg_val=disagg_val_pline, tag='power_line_e')\n",
    "    exp_ptower = exposure_from_edges(gdf_from_network(ci_network.edges, 'power_line'),\n",
    "                                      res=res_orig, disagg_val=disagg_val_pline, tag='power_tower')\n",
    "    exp_road = exposure_from_edges(gdf_from_network(ci_network.edges, 'road'),\n",
    "                                   res=res_orig, disagg_val=disagg_val_road)\n",
    "    exp_list = [exp_health, exp_educ, exp_celltowers, exp_pplant, \n",
    "                exp_pline_n, exp_pline_e, exp_ptower, exp_road]\n",
    "    \n",
    "    for exp in exp_list:\n",
    "        assign_impfs(exp, haz_type)"
   ]
  },
  {
   "cell_type": "code",
   "execution_count": 6,
   "id": "754b35ed",
   "metadata": {},
   "outputs": [],
   "source": [
    "# MAKE IMPACTFUNCSETS   \n",
    "impf_set = make_impfset(ImpfClassDict()[haz_type])"
   ]
  },
  {
   "cell_type": "code",
   "execution_count": 7,
   "id": "9aef7f5b",
   "metadata": {
    "scrolled": true
   },
   "outputs": [
    {
     "name": "stdout",
     "output_type": "stream",
     "text": [
      "['2019063S18038']\n",
      "2022-11-25 18:11:46,934 - climada.engine.impact - WARNING - The use of Impact().calc() is deprecated. Use ImpactCalc().impact() instead.\n",
      "2022-11-25 18:12:16,255 - climada.engine.impact - WARNING - The use of Impact().calc() is deprecated. Use ImpactCalc().impact() instead.\n",
      "2022-11-25 18:12:45,362 - climada.engine.impact - WARNING - The use of Impact().calc() is deprecated. Use ImpactCalc().impact() instead.\n",
      "2022-11-25 18:13:14,689 - climada.engine.impact - WARNING - The use of Impact().calc() is deprecated. Use ImpactCalc().impact() instead.\n",
      "2022-11-25 18:13:43,935 - climada.engine.impact - WARNING - The use of Impact().calc() is deprecated. Use ImpactCalc().impact() instead.\n",
      "2022-11-25 18:14:13,181 - climada.engine.impact - WARNING - The use of Impact().calc() is deprecated. Use ImpactCalc().impact() instead.\n",
      "2022-11-25 18:14:43,537 - climada.engine.impact - WARNING - The use of Impact().calc() is deprecated. Use ImpactCalc().impact() instead.\n",
      "2022-11-25 18:14:43,548 - climada.hazard.base - WARNING - Impact function id=8 has mdr(0) != 0.The mean damage ratio must thus be computed for all values ofhazard intensity including 0 which can be very time consuming.\n",
      "2022-11-25 18:15:13,782 - climada.engine.impact - WARNING - The use of Impact().calc() is deprecated. Use ImpactCalc().impact() instead.\n",
      "2022-11-25 18:15:14,054 - climada.hazard.base - WARNING - Impact function id=2 has mdr(0) != 0.The mean damage ratio must thus be computed for all values ofhazard intensity including 0 which can be very time consuming.\n",
      "2022-11-25 18:17:50,209 - climada_petals.engine.networks.nw_calcs - INFO - Updating functional states. Current func.-state delta : -1\n",
      "2022-11-25 18:17:50,276 - climada_petals.engine.networks.nw_calcs - INFO - Updating roads\n",
      "2022-11-25 18:17:50,718 - climada_petals.engine.networks.nw_calcs - INFO - Updating power clusters\n",
      "Using updated power line algorithm: dysfunc edges before:\n",
      "                  217, after: 264\n",
      "2022-11-25 18:18:05,938 - climada_petals.engine.networks.nw_calcs - INFO - Updating functional states. Current func.-state delta : 4956\n",
      "2022-11-25 18:18:06,128 - climada_petals.engine.networks.nw_calcs - INFO - Updating roads\n",
      "2022-11-25 18:18:06,569 - climada_petals.engine.networks.nw_calcs - INFO - Updating power clusters\n",
      "Using updated power line algorithm: dysfunc edges before:\n",
      "                  264, after: 264\n",
      "2022-11-25 18:18:20,101 - climada_petals.engine.networks.nw_calcs - INFO - Ended functional state update. Proceeding to end-user update.\n",
      "2022-11-25 18:18:22,328 - climada_petals.engine.networks.nw_calcs - INFO - Re-calculating paths from education to people\n",
      "2022-11-25 18:18:22,965 - climada.entity.impact_funcs.impact_func_set - WARNING - Input ImpactFunc's hazard type not set.\n"
     ]
    },
    {
     "name": "stderr",
     "output_type": "stream",
     "text": [
      "/cluster/apps/nss/gcc-8.2.0/python/3.9.9/x86_64/lib64/python3.9/site-packages/pandas/core/dtypes/cast.py:118: ShapelyDeprecationWarning: The array interface is deprecated and will no longer work in Shapely 2.0. Convert the '.coords' to a numpy array instead.\n",
      "  arr = construct_1d_object_array_from_listlike(values)\n"
     ]
    },
    {
     "name": "stdout",
     "output_type": "stream",
     "text": [
      "2022-11-25 18:18:47,890 - climada.engine.impact - WARNING - The use of Impact().calc() is deprecated. Use ImpactCalc().impact() instead.\n",
      "2022-11-25 18:18:47,928 - climada.hazard.base - WARNING - Impact function id=1 has mdr(0) != 0.The mean damage ratio must thus be computed for all values ofhazard intensity including 0 which can be very time consuming.\n",
      "Time for recalculating from education to people : 40.793194722849876\n",
      "2022-11-25 18:19:04,606 - climada_petals.engine.networks.nw_calcs - INFO - Re-calculating paths from health to people\n"
     ]
    },
    {
     "name": "stderr",
     "output_type": "stream",
     "text": [
      "/cluster/apps/nss/gcc-8.2.0/python/3.9.9/x86_64/lib64/python3.9/site-packages/pandas/core/dtypes/cast.py:118: ShapelyDeprecationWarning: The array interface is deprecated and will no longer work in Shapely 2.0. Convert the '.coords' to a numpy array instead.\n",
      "  arr = construct_1d_object_array_from_listlike(values)\n"
     ]
    },
    {
     "name": "stdout",
     "output_type": "stream",
     "text": [
      "2022-11-25 18:19:46,557 - climada.entity.impact_funcs.impact_func_set - WARNING - Input ImpactFunc's hazard type not set.\n"
     ]
    },
    {
     "name": "stderr",
     "output_type": "stream",
     "text": [
      "/cluster/apps/nss/gcc-8.2.0/python/3.9.9/x86_64/lib64/python3.9/site-packages/pandas/core/dtypes/cast.py:118: ShapelyDeprecationWarning: The array interface is deprecated and will no longer work in Shapely 2.0. Convert the '.coords' to a numpy array instead.\n",
      "  arr = construct_1d_object_array_from_listlike(values)\n"
     ]
    },
    {
     "name": "stdout",
     "output_type": "stream",
     "text": [
      "2022-11-25 18:22:05,917 - climada.engine.impact - WARNING - The use of Impact().calc() is deprecated. Use ImpactCalc().impact() instead.\n",
      "2022-11-25 18:22:06,122 - climada.hazard.base - WARNING - Impact function id=1 has mdr(0) != 0.The mean damage ratio must thus be computed for all values ofhazard intensity including 0 which can be very time consuming.\n",
      "Time for recalculating friction from health to people : 192.80047521321103\n",
      "Time for recalculating paths from health to people : 208.99775205086917\n",
      "2022-11-25 18:25:52,686 - climada_petals.engine.networks.nw_calcs - INFO - Re-calculating paths from road to people\n"
     ]
    },
    {
     "name": "stderr",
     "output_type": "stream",
     "text": [
      "/cluster/apps/nss/gcc-8.2.0/python/3.9.9/x86_64/lib64/python3.9/site-packages/pandas/core/dtypes/cast.py:118: ShapelyDeprecationWarning: The array interface is deprecated and will no longer work in Shapely 2.0. Convert the '.coords' to a numpy array instead.\n",
      "  arr = construct_1d_object_array_from_listlike(values)\n",
      "/cluster/apps/nss/gcc-8.2.0/python/3.9.9/x86_64/lib64/python3.9/site-packages/pandas/core/dtypes/cast.py:118: ShapelyDeprecationWarning: The array interface is deprecated and will no longer work in Shapely 2.0. Convert the '.coords' to a numpy array instead.\n",
      "  arr = construct_1d_object_array_from_listlike(values)\n",
      "/scratch/239649595.tmpdir/ipykernel_128100/4289372224.py:448: UserWarning: this is an initial implementation of Parquet/Feather file support and associated metadata.  This is tracking version 0.1.0 of the metadata specification at https://github.com/geopandas/geo-arrow-spec\n",
      "\n",
      "This metadata specification does not yet make stability promises.  We do not yet recommend using this in a production setting unless you are able to rewrite your Parquet/Feather files.\n",
      "\n",
      "To further ignore this warning, you can do: \n",
      "import warnings; warnings.filterwarnings('ignore', message='.*initial implementation of Parquet.*')\n",
      "  df_res.to_feather(path_save+f'cascade_results_{event_name}')\n",
      "/cluster/apps/nss/gcc-8.2.0/python/3.9.9/x86_64/lib64/python3.9/site-packages/pandas/core/dtypes/cast.py:118: ShapelyDeprecationWarning: The array interface is deprecated and will no longer work in Shapely 2.0. Convert the '.coords' to a numpy array instead.\n",
      "  arr = construct_1d_object_array_from_listlike(values)\n",
      "/cluster/apps/nss/gcc-8.2.0/python/3.9.9/x86_64/lib64/python3.9/site-packages/pandas/core/dtypes/cast.py:118: ShapelyDeprecationWarning: The array interface is deprecated and will no longer work in Shapely 2.0. Convert the '.coords' to a numpy array instead.\n",
      "  arr = construct_1d_object_array_from_listlike(values)\n"
     ]
    }
   ],
   "source": [
    "# CASCADE\n",
    "imp_dict = wrapper_impacts_cascades_saving(haz, ci_network, exp_list, df_dependencies, friction_surf)"
   ]
  },
  {
   "cell_type": "code",
   "execution_count": 8,
   "id": "237d7913",
   "metadata": {},
   "outputs": [],
   "source": [
    "with open(path_save+f'service_stats_idai_{haz_type}.pkl', 'wb') as f:\n",
    "    pickle.dump(imp_dict, f)    \n"
   ]
  },
  {
   "cell_type": "code",
   "execution_count": 9,
   "id": "d2c1d80c",
   "metadata": {},
   "outputs": [
    {
     "data": {
      "text/plain": [
       "{'power': 590958.7766132355,\n",
       " 'healthcare': 952269.3277769089,\n",
       " 'education': 759259.696931839,\n",
       " 'telecom': 1414790.1202583313,\n",
       " 'mobility': 603051.0693902969}"
      ]
     },
     "execution_count": 9,
     "metadata": {},
     "output_type": "execute_result"
    }
   ],
   "source": [
    "imp_dict"
   ]
  },
  {
   "cell_type": "code",
   "execution_count": 14,
   "id": "7ebfe36d",
   "metadata": {},
   "outputs": [
    {
     "data": {
      "text/plain": [
       "{'power': 186342.67712402344,\n",
       " 'healthcare': 555820.7906446457,\n",
       " 'education': 304290.8617076874,\n",
       " 'telecom': 743663.2444124222,\n",
       " 'mobility': 493239.2402677536}"
      ]
     },
     "execution_count": 14,
     "metadata": {},
     "output_type": "execute_result"
    }
   ],
   "source": [
    "with open(path_save+f'service_stats_idai_FL.pkl', 'rb') as fl_stats_dict:\n",
    "     fl_stats_dict = pickle.load(fl_stats_dict)\n",
    "fl_stats_dict"
   ]
  },
  {
   "cell_type": "code",
   "execution_count": 15,
   "id": "6d4ea77d",
   "metadata": {},
   "outputs": [
    {
     "data": {
      "text/plain": [
       "{'power': 590958.7766132355,\n",
       " 'healthcare': 952269.3277769089,\n",
       " 'education': 759259.696931839,\n",
       " 'telecom': 1414790.1202583313,\n",
       " 'mobility': 603051.0693902969}"
      ]
     },
     "execution_count": 15,
     "metadata": {},
     "output_type": "execute_result"
    }
   ],
   "source": [
    "with open(path_save+f'service_stats_idai_TC.pkl', 'rb') as tc_stats_dict:\n",
    "     tc_stats_dict = pickle.load(tc_stats_dict)\n",
    "tc_stats_dict"
   ]
  },
  {
   "cell_type": "code",
   "execution_count": 4,
   "id": "edbf35c3",
   "metadata": {},
   "outputs": [],
   "source": [
    "if haz_type=='TCFL':\n",
    "        \n",
    "        ci_network_disr = copy.deepcopy(ci_network)\n",
    "        # combine direct flood & wind impacts from previous runs\n",
    "        df_res_tc = gpd.read_feather(path_save+f'cascade_results_2019063S18038')\n",
    "        df_res_fl = gpd.read_feather(path_save+f'cascade_results_Flood_Idai')\n",
    "        df_res = df_res_tc.copy()\n",
    "        df_res['imp_dir'] = df_res_tc['imp_dir']+df_res_fl['imp_dir']\n",
    "        \n",
    "        df_res['func_thresh'] = 0\n",
    "        for ci_type in ['celltower', 'power_plant', 'health', 'education', 'road']:\n",
    "            indexer = df_res[df_res.ci_type==ci_type].index\n",
    "            df_res.loc[indexer, 'func_thresh'] = getattr(ImpactThresh(), ci_type)\n",
    "        # power lines with different node vs edge thresholds:\n",
    "        indexer = df_res[(df_res.ci_type=='power_line') & (df_res.geometry.type=='LineString')].index\n",
    "        df_res.loc[indexer, 'func_thresh'] = getattr(ImpactThresh(), 'power_line_e')\n",
    "        indexer = df_res[(df_res.ci_type=='power_line') & (df_res.geometry.type=='Point')].index\n",
    "        df_res.loc[indexer, 'func_thresh'] = getattr(ImpactThresh(), 'power_line_n')\n",
    "        df_res['func_states'] = np.array(list(map(int, df_res.imp_dir.values<=df_res.func_thresh.values)))"
   ]
  },
  {
   "cell_type": "code",
   "execution_count": 68,
   "id": "e91eb0ab",
   "metadata": {},
   "outputs": [],
   "source": [
    "# manually assign to network\n",
    "ci_network_disr.edges.loc[ci_network_disr.edges.ci_type=='road',\n",
    "                                  'func_internal'] = df_res.loc[df_res.ci_type=='road','func_states']\n",
    "ci_network_disr.edges.loc[ci_network_disr.edges.ci_type=='road',\n",
    "                                  'imp_dir'] = df_res.loc[df_res.ci_type=='road','imp_dir'].values"
   ]
  },
  {
   "cell_type": "code",
   "execution_count": 89,
   "id": "850d25bd",
   "metadata": {},
   "outputs": [],
   "source": [
    "ci_network_disr.edges.loc[ci_network_disr.edges.ci_type=='road',\n",
    "                                  'imp_dir'] = df_res.loc[df_res.ci_type=='road','imp_dir'].values"
   ]
  },
  {
   "cell_type": "code",
   "execution_count": 90,
   "id": "bb0d169f",
   "metadata": {},
   "outputs": [
    {
     "data": {
      "text/plain": [
       "edge ID\n",
       "6642       0.003372\n",
       "6643       0.001686\n",
       "6644       0.001686\n",
       "6645       0.001686\n",
       "6646       0.001686\n",
       "             ...   \n",
       "1074867    0.001686\n",
       "1074868    0.010116\n",
       "1074869    0.001686\n",
       "1074870    0.002529\n",
       "1074871    0.001686\n",
       "Name: imp_dir, Length: 1068224, dtype: float64"
      ]
     },
     "execution_count": 90,
     "metadata": {},
     "output_type": "execute_result"
    }
   ],
   "source": [
    "ci_network_disr.edges.loc[ci_network_disr.edges.ci_type=='road',\n",
    "                                  'imp_dir']"
   ]
  },
  {
   "cell_type": "code",
   "execution_count": 54,
   "id": "5fdddc2b",
   "metadata": {},
   "outputs": [
    {
     "name": "stdout",
     "output_type": "stream",
     "text": [
      "celltower\n",
      "power_plant\n",
      "health\n",
      "education\n"
     ]
    }
   ],
   "source": [
    "# manually assign to network\n",
    "for ci_type in ['celltower', 'power_plant', 'health', 'education']:\n",
    "    ci_network_disr.nodes.loc[ci_network_disr.nodes.ci_type==ci_type,\n",
    "                                      'func_internal'] = df_res.loc[df_res.ci_type==ci_type,'func_states']\n",
    "    ci_network_disr.nodes.loc[ci_network_disr.nodes.ci_type==ci_type,\n",
    "                                      'imp_dir'] = df_res.loc[df_res.ci_type==ci_type,'imp_dir']"
   ]
  },
  {
   "cell_type": "code",
   "execution_count": 55,
   "id": "a90ec351",
   "metadata": {},
   "outputs": [],
   "source": [
    "# manually assign to network\n",
    "ci_network_disr.edges.loc[ci_network_disr.edges.ci_type=='power_line',\n",
    "                                  'func_internal'] = df_res.loc[(df_res.ci_type=='power_line')&\n",
    "                                                                (df_res.geometry.type=='LineString'),'func_states']\n",
    "ci_network_disr.edges.loc[ci_network_disr.edges.ci_type=='road',\n",
    "                                  'imp_dir'] = df_res.loc[(df_res.ci_type=='power_line')&\n",
    "                                                                (df_res.geometry.type=='LineString'),'imp_dir']\n"
   ]
  },
  {
   "cell_type": "code",
   "execution_count": 56,
   "id": "96516db5",
   "metadata": {},
   "outputs": [],
   "source": [
    "# manually assign to network\n",
    "ci_network_disr.nodes.loc[ci_network_disr.nodes.ci_type=='power_line',\n",
    "                                  'func_internal'] = df_res.loc[(df_res.ci_type=='power_line')&\n",
    "                                                                (df_res.geometry.type=='Point'),'func_states']\n",
    "ci_network_disr.nodes.loc[ci_network_disr.nodes.ci_type=='road',\n",
    "                                  'imp_dir'] = df_res.loc[(df_res.ci_type=='power_line')&\n",
    "                                                                (df_res.geometry.type=='Point'),'imp_dir']\n"
   ]
  },
  {
   "cell_type": "code",
   "execution_count": 57,
   "id": "0a73f3d4",
   "metadata": {},
   "outputs": [],
   "source": [
    "ci_network_disr.edges['func_tot'] = [np.min([func_internal, func_tot]) for \n",
    "                                          func_internal, func_tot in zip(\n",
    "                                              ci_network_disr.edges.func_internal, \n",
    "                                              ci_network_disr.edges.func_tot)]\n",
    "ci_network_disr.nodes['func_tot'] = [np.min([func_internal, func_tot]) for \n",
    "                                         func_internal, func_tot in zip(\n",
    "                                             ci_network_disr.nodes.func_internal, \n",
    "                                             ci_network_disr.nodes.func_tot)]"
   ]
  },
  {
   "cell_type": "code",
   "execution_count": 59,
   "id": "08b1031a",
   "metadata": {},
   "outputs": [
    {
     "name": "stdout",
     "output_type": "stream",
     "text": [
      "2022-11-29 16:23:14,686 - climada_petals.engine.networks.nw_calcs - INFO - Updating functional states. Current func.-state delta : -1\n",
      "2022-11-29 16:23:14,762 - climada_petals.engine.networks.nw_calcs - INFO - Updating roads\n",
      "2022-11-29 16:23:15,253 - climada_petals.engine.networks.nw_calcs - INFO - Updating power clusters\n",
      "Using updated power line algorithm: dysfunc edges before:\n",
      "                  311, after: 408\n",
      "2022-11-29 16:23:30,694 - climada_petals.engine.networks.nw_calcs - INFO - Updating functional states. Current func.-state delta : 13711\n",
      "2022-11-29 16:23:30,907 - climada_petals.engine.networks.nw_calcs - INFO - Updating roads\n",
      "2022-11-29 16:23:31,432 - climada_petals.engine.networks.nw_calcs - INFO - Updating power clusters\n",
      "Using updated power line algorithm: dysfunc edges before:\n",
      "                  408, after: 408\n",
      "2022-11-29 16:23:46,681 - climada_petals.engine.networks.nw_calcs - INFO - Ended functional state update. Proceeding to end-user update.\n",
      "2022-11-29 16:23:50,947 - climada_petals.engine.networks.nw_calcs - INFO - Re-calculating paths from education to people\n",
      "2022-11-29 16:23:51,653 - climada.entity.impact_funcs.impact_func_set - WARNING - Input ImpactFunc's hazard type not set.\n"
     ]
    },
    {
     "name": "stderr",
     "output_type": "stream",
     "text": [
      "/cluster/apps/nss/gcc-8.2.0/python/3.9.9/x86_64/lib64/python3.9/site-packages/pandas/core/dtypes/cast.py:118: ShapelyDeprecationWarning: The array interface is deprecated and will no longer work in Shapely 2.0. Convert the '.coords' to a numpy array instead.\n",
      "  arr = construct_1d_object_array_from_listlike(values)\n"
     ]
    },
    {
     "name": "stdout",
     "output_type": "stream",
     "text": [
      "2022-11-29 16:24:17,335 - climada.engine.impact - WARNING - The use of Impact().calc() is deprecated. Use ImpactCalc().impact() instead.\n",
      "2022-11-29 16:24:17,380 - climada.hazard.base - WARNING - Impact function id=1 has mdr(0) != 0.The mean damage ratio must thus be computed for all values ofhazard intensity including 0 which can be very time consuming.\n",
      "Time for recalculating from education to people : 43.8521236339584\n",
      "2022-11-29 16:24:36,501 - climada_petals.engine.networks.nw_calcs - INFO - Re-calculating paths from health to people\n"
     ]
    },
    {
     "name": "stderr",
     "output_type": "stream",
     "text": [
      "/cluster/apps/nss/gcc-8.2.0/python/3.9.9/x86_64/lib64/python3.9/site-packages/pandas/core/dtypes/cast.py:118: ShapelyDeprecationWarning: The array interface is deprecated and will no longer work in Shapely 2.0. Convert the '.coords' to a numpy array instead.\n",
      "  arr = construct_1d_object_array_from_listlike(values)\n"
     ]
    },
    {
     "name": "stdout",
     "output_type": "stream",
     "text": [
      "2022-11-29 16:25:25,187 - climada.entity.impact_funcs.impact_func_set - WARNING - Input ImpactFunc's hazard type not set.\n"
     ]
    },
    {
     "name": "stderr",
     "output_type": "stream",
     "text": [
      "/cluster/apps/nss/gcc-8.2.0/python/3.9.9/x86_64/lib64/python3.9/site-packages/pandas/core/dtypes/cast.py:118: ShapelyDeprecationWarning: The array interface is deprecated and will no longer work in Shapely 2.0. Convert the '.coords' to a numpy array instead.\n",
      "  arr = construct_1d_object_array_from_listlike(values)\n"
     ]
    },
    {
     "name": "stdout",
     "output_type": "stream",
     "text": [
      "2022-11-29 16:27:58,559 - climada.engine.impact - WARNING - The use of Impact().calc() is deprecated. Use ImpactCalc().impact() instead.\n",
      "2022-11-29 16:27:58,807 - climada.hazard.base - WARNING - Impact function id=1 has mdr(0) != 0.The mean damage ratio must thus be computed for all values ofhazard intensity including 0 which can be very time consuming.\n",
      "Time for recalculating friction from health to people : 213.57051210384816\n",
      "Time for recalculating paths from health to people : 225.803240631707\n",
      "2022-11-29 16:32:02,640 - climada_petals.engine.networks.nw_calcs - INFO - Re-calculating paths from road to people\n"
     ]
    },
    {
     "ename": "NameError",
     "evalue": "name 'haz' is not defined",
     "output_type": "error",
     "traceback": [
      "\u001b[0;31m---------------------------------------------------------------------------\u001b[0m",
      "\u001b[0;31mNameError\u001b[0m                                 Traceback (most recent call last)",
      "\u001b[0;32m/scratch/250262142.tmpdir/ipykernel_43312/1353463632.py\u001b[0m in \u001b[0;36m<module>\u001b[0;34m\u001b[0m\n\u001b[1;32m      7\u001b[0m \u001b[0;34m\u001b[0m\u001b[0m\n\u001b[1;32m      8\u001b[0m \u001b[0;31m# SAVE RESULTS\u001b[0m\u001b[0;34m\u001b[0m\u001b[0;34m\u001b[0m\u001b[0m\n\u001b[0;32m----> 9\u001b[0;31m \u001b[0msave_resultdf\u001b[0m\u001b[0;34m(\u001b[0m\u001b[0mci_graph_disr\u001b[0m\u001b[0;34m,\u001b[0m \u001b[0mpath_save\u001b[0m\u001b[0;34m,\u001b[0m \u001b[0mhaz\u001b[0m\u001b[0;34m.\u001b[0m\u001b[0mevent_name\u001b[0m\u001b[0;34m[\u001b[0m\u001b[0;36m0\u001b[0m\u001b[0;34m]\u001b[0m\u001b[0;34m)\u001b[0m\u001b[0;34m\u001b[0m\u001b[0;34m\u001b[0m\u001b[0m\n\u001b[0m\u001b[1;32m     10\u001b[0m \u001b[0;31m# CALC IMPACTSTATS\u001b[0m\u001b[0;34m\u001b[0m\u001b[0;34m\u001b[0m\u001b[0m\n\u001b[1;32m     11\u001b[0m \u001b[0mci_network_disr\u001b[0m \u001b[0;34m=\u001b[0m \u001b[0mci_graph_disr\u001b[0m\u001b[0;34m.\u001b[0m\u001b[0mreturn_network\u001b[0m\u001b[0;34m(\u001b[0m\u001b[0;34m)\u001b[0m\u001b[0;34m\u001b[0m\u001b[0;34m\u001b[0m\u001b[0m\n",
      "\u001b[0;31mNameError\u001b[0m: name 'haz' is not defined"
     ]
    }
   ],
   "source": [
    "        # IMPACT CASCADES\n",
    "        ci_graph_disr = Graph(ci_network_disr, directed=True)\n",
    "        ci_graph_disr.cascade(df_dependencies, p_source='power_plant', p_sink='power_line', \n",
    "                              source_var='el_generation', demand_var='el_consumption',\n",
    "                              preselect=False, initial=False, friction_surf=friction_surf, \n",
    "                              dur_thresh=60)"
   ]
  },
  {
   "cell_type": "code",
   "execution_count": 70,
   "id": "24fc87f1",
   "metadata": {},
   "outputs": [
    {
     "name": "stderr",
     "output_type": "stream",
     "text": [
      "/cluster/apps/nss/gcc-8.2.0/python/3.9.9/x86_64/lib64/python3.9/site-packages/pandas/core/dtypes/cast.py:118: ShapelyDeprecationWarning: The array interface is deprecated and will no longer work in Shapely 2.0. Convert the '.coords' to a numpy array instead.\n",
      "  arr = construct_1d_object_array_from_listlike(values)\n",
      "/cluster/apps/nss/gcc-8.2.0/python/3.9.9/x86_64/lib64/python3.9/site-packages/pandas/core/dtypes/cast.py:118: ShapelyDeprecationWarning: The array interface is deprecated and will no longer work in Shapely 2.0. Convert the '.coords' to a numpy array instead.\n",
      "  arr = construct_1d_object_array_from_listlike(values)\n",
      "/scratch/250262142.tmpdir/ipykernel_43312/4289372224.py:448: UserWarning: this is an initial implementation of Parquet/Feather file support and associated metadata.  This is tracking version 0.1.0 of the metadata specification at https://github.com/geopandas/geo-arrow-spec\n",
      "\n",
      "This metadata specification does not yet make stability promises.  We do not yet recommend using this in a production setting unless you are able to rewrite your Parquet/Feather files.\n",
      "\n",
      "To further ignore this warning, you can do: \n",
      "import warnings; warnings.filterwarnings('ignore', message='.*initial implementation of Parquet.*')\n",
      "  df_res.to_feather(path_save+f'cascade_results_{event_name}')\n",
      "/cluster/apps/nss/gcc-8.2.0/python/3.9.9/x86_64/lib64/python3.9/site-packages/pandas/core/dtypes/cast.py:118: ShapelyDeprecationWarning: The array interface is deprecated and will no longer work in Shapely 2.0. Convert the '.coords' to a numpy array instead.\n",
      "  arr = construct_1d_object_array_from_listlike(values)\n",
      "/cluster/apps/nss/gcc-8.2.0/python/3.9.9/x86_64/lib64/python3.9/site-packages/pandas/core/dtypes/cast.py:118: ShapelyDeprecationWarning: The array interface is deprecated and will no longer work in Shapely 2.0. Convert the '.coords' to a numpy array instead.\n",
      "  arr = construct_1d_object_array_from_listlike(values)\n"
     ]
    }
   ],
   "source": [
    "        # SAVE RESULTS\n",
    "        save_resultdf(ci_graph_disr, path_save, 'idai_tc_fl')\n",
    "        # CALC IMPACTSTATS\n",
    "        ci_network_disr = ci_graph_disr.return_network()\n",
    "        imp_dict = nwu.disaster_impact_allservices_df(ci_network.nodes, ci_network_disr.nodes, \n",
    "                                                      services=['power', 'healthcare', 'education', \n",
    "                                                                'telecom', 'mobility'])\n",
    "        with open(path_save+f'service_stats_idai_{haz_type}.pkl', 'wb') as f:\n",
    "            pickle.dump(imp_dict, f)"
   ]
  },
  {
   "cell_type": "code",
   "execution_count": 61,
   "id": "a928ffb7",
   "metadata": {},
   "outputs": [
    {
     "data": {
      "text/plain": [
       "{'power': 672051.3378763199,\n",
       " 'healthcare': 1190527.0694990158,\n",
       " 'education': 821140.1367301941,\n",
       " 'telecom': 1631461.4283361435,\n",
       " 'mobility': 991282.6636781693}"
      ]
     },
     "execution_count": 61,
     "metadata": {},
     "output_type": "execute_result"
    }
   ],
   "source": [
    "imp_dict"
   ]
  },
  {
   "cell_type": "code",
   "execution_count": 91,
   "id": "f7dbca06",
   "metadata": {},
   "outputs": [],
   "source": [
    "imp_array = ci_network_disr.edges.loc[ci_network_disr.edges.ci_type=='road',\n",
    "                                  'imp_dir'].values"
   ]
  },
  {
   "cell_type": "code",
   "execution_count": 92,
   "id": "f4779bad",
   "metadata": {},
   "outputs": [
    {
     "data": {
      "text/plain": [
       "array([0.003372, 0.001686, 0.001686, ..., 0.001686, 0.002529, 0.001686])"
      ]
     },
     "execution_count": 92,
     "metadata": {},
     "output_type": "execute_result"
    }
   ],
   "source": [
    "imp_array"
   ]
  },
  {
   "cell_type": "code",
   "execution_count": 93,
   "id": "7e54b3f5",
   "metadata": {},
   "outputs": [],
   "source": [
    "np.savetxt(path_save+\"foo.csv\", imp_array, delimiter=\",\")"
   ]
  }
 ],
 "metadata": {
  "kernelspec": {
   "display_name": "Python3.9 (climada_venv)",
   "language": "python",
   "name": "climada_venv"
  },
  "language_info": {
   "codemirror_mode": {
    "name": "ipython",
    "version": 3
   },
   "file_extension": ".py",
   "mimetype": "text/x-python",
   "name": "python",
   "nbconvert_exporter": "python",
   "pygments_lexer": "ipython3",
   "version": "3.9.9"
  }
 },
 "nbformat": 4,
 "nbformat_minor": 5
}
