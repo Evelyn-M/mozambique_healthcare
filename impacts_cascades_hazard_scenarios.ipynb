{
 "cells": [
  {
   "cell_type": "code",
   "execution_count": 1,
   "id": "88915cb9",
   "metadata": {},
   "outputs": [],
   "source": [
    "#!/usr/bin/env python\n",
    "# coding: utf-8\n",
    "\n",
    "# In[9]:\n",
    "\n",
    "\n",
    "#!/usr/bin/env python3\n",
    "# -*- coding: utf-8 -*-\n",
    "\"\"\"\n",
    "Created on Tue Jun 28 11:55:57 2022\n",
    "\n",
    "@author: evelynm\n",
    "---\n",
    "Parallel calculation per hazard via impact cascade to saving results.\n",
    "\n",
    "\"\"\"\n",
    "\n",
    "import os\n",
    "import sys\n",
    "import geopandas as gpd\n",
    "from copy import copy, deepcopy\n",
    "import numpy as np\n",
    "import pandas as pd\n",
    "import pickle\n",
    "import shapely\n",
    "\n",
    "from climada.entity.exposures.base import Exposures\n",
    "from climada.entity.impact_funcs import ImpactFunc, ImpactFuncSet\n",
    "from climada.engine import Impact\n",
    "from climada.hazard.base import Hazard, Centroids\n",
    "from climada.hazard import TCTracks, TropCyclone\n",
    "from climada.util import lines_polys_handler as u_lp\n",
    "from climada.util import coordinates as u_coord\n",
    "\n",
    "from climada_petals.engine.networks.nw_base import Network\n",
    "from climada_petals.engine.networks.nw_calcs import Graph\n",
    "import climada_petals.engine.networks.nw_utils as nwu\n",
    "\n",
    "\n",
    "# =============================================================================\n",
    "# Impact Class Defs\n",
    "# =============================================================================\n",
    "\n",
    "class ImpFuncsCIFlood():\n",
    "    \n",
    "    def __init__(self):\n",
    "        self.tag = 'FL'\n",
    "        self.road = self.step_impf()\n",
    "        self.health = self.step_impf()\n",
    "        self.education = self.step_impf()\n",
    "        self.power_line_e = self.no_impf() # for edges!\n",
    "        self.power_line_n = self.step_impf() # for nodes! (aka substations)\n",
    "        self.power_tower = self.no_impf()\n",
    "        self.power_plant = self.no_impf()\n",
    "        self.water_plant = self.no_impf()\n",
    "        self.celltower = self.step_impf()\n",
    "        self.people = self.step_impf()\n",
    "        \n",
    "    def step_impf(self):\n",
    "        step_impf = ImpactFunc() \n",
    "        step_impf.id = 1\n",
    "        step_impf.haz_type = 'FL'\n",
    "        step_impf.name = 'Step function flood'\n",
    "        step_impf.intensity_unit = ''\n",
    "        step_impf.intensity = np.array([0, 0.95,0.955, 1])\n",
    "        step_impf.mdd =       np.array([0, 0, 1, 1])\n",
    "        step_impf.paa =       np.sort(np.linspace(1, 1, num=4))\n",
    "        step_impf.check()\n",
    "        return step_impf\n",
    "    \n",
    "    def no_impf(self):\n",
    "        no_impf = ImpactFunc() \n",
    "        no_impf.id = 2\n",
    "        no_impf.haz_type = 'FL'\n",
    "        no_impf.name = 'No impact function flood'\n",
    "        no_impf.intensity_unit = ''\n",
    "        no_impf.intensity = np.array([0, 1])\n",
    "        no_impf.mdd =       np.array([0, 0])\n",
    "        no_impf.paa =       np.sort(np.linspace(1, 1, num=2))\n",
    "        no_impf.check()\n",
    "        return no_impf\n",
    "\n",
    "\n",
    "class ImpFuncsCIWind():\n",
    "    \n",
    "    def __init__(self):\n",
    "        self.tag = 'TC'\n",
    "        self.road = self.road_impf() # for edges!\n",
    "        self.education = self.resid_impf()\n",
    "        self.health = self.health_level_1_4_impf()\n",
    "        self.power_line_e = self.pl_impf() # for edges!\n",
    "        self.power_line_n = self.no_impf() # for nodes!\n",
    "        self.power_tower = self.pt_impf()\n",
    "        self.power_plant = self.no_impf()\n",
    "        self.water_plant = self.no_impf()\n",
    "        self.celltower = self.tele_impf()\n",
    "        self.people = self.people_impf()\n",
    "        \n",
    "    def road_impf(self):\n",
    "        # Road adapted from Koks et al. 2019 (tree blowdown on road > 42 m/s)\n",
    "        # anecdotal case-study Mühlhofer et al. 2022 (over-estimate) that for 42 m/s all roads sustain 100% damage\n",
    "        # --> sigmoid function with v 1/2 at 42 m/s and max dmg at 50%\n",
    "        v_eval = np.linspace(0, 120, num=120)\n",
    "        L=50\n",
    "        k=0.3\n",
    "        x0=42\n",
    "        mdd = []\n",
    "        for v in v_eval:\n",
    "            mdd.append(L/(1 + np.exp(-k * (v-x0)))/100)\n",
    "        impf_road = ImpactFunc() \n",
    "        impf_road.id = 2\n",
    "        impf_road.haz_type = 'TC'\n",
    "        impf_road.name = 'Road dmg function for tree blowdown from strong winds'\n",
    "        impf_road.intensity_unit = 'm/s'\n",
    "        impf_road.intensity = np.array(v_eval)\n",
    "        impf_road.mdd = np.array(mdd)\n",
    "        impf_road.paa = np.sort(np.linspace(1, 1, num=120))\n",
    "        impf_road.check()\n",
    "        return impf_road\n",
    "    \n",
    "    def resid_impf(self):\n",
    "        # adapted from figure H.13 (residential 2-story building) loss function, Hazus TC 2.1 (p.940)\n",
    "        # medium terrain roughness parameter (z_theta = 0.35)\n",
    "        impf_educ = ImpactFunc() \n",
    "        impf_educ.id = 5\n",
    "        impf_educ.tag = 'TC educ'\n",
    "        impf_educ.haz_type = 'TC'\n",
    "        impf_educ.name = 'Loss func. residental building z0 = 0.35'\n",
    "        impf_educ.intensity_unit = 'm/s'\n",
    "        impf_educ.intensity = np.array([0, 30, 60, 80, 100, 120, 140, 160, 180, 200, 260]) / 2.237\n",
    "        impf_educ.mdd =       np.array([0, 0,  5,  20,  50,  80,  98,  98,  98, 100, 100]) / 100\n",
    "        impf_educ.paa = np.sort(np.linspace(1, 1, num=11))\n",
    "        impf_educ.check()\n",
    "        return impf_educ\n",
    "\n",
    "    def health_level_1_4_impf(self):\n",
    "        impf_health_1_4 = ImpactFunc()\n",
    "        impf_health_1_4.id = 9\n",
    "        impf_health_1_4.haz_type = 'TC'\n",
    "        impf_health_1_4.name = 'Step function health'\n",
    "        impf_health_1_4.intensity_unit = 'm/s'\n",
    "        impf_health_1_4.intensity = np.array([12, 18, 20, 40, 50, 60, 70, 90])\n",
    "        impf_health_1_4.mdd = np.array([0, 0.03, 0.3, 0.5, 0.6, 0.61, 0.61, 0.61])\n",
    "        impf_health_1_4.paa = np.ones(impf_health_1_4.intensity.shape)\n",
    "        impf_health_1_4.check()\n",
    "        return impf_health_1_4\n",
    "\n",
    "    def health_level_1_4_impf_adapt(self):\n",
    "        impf_health_1_4 = ImpactFunc()\n",
    "        impf_health_1_4.id = 10\n",
    "        impf_health_1_4.haz_type = 'TC'\n",
    "        impf_health_1_4.name = 'Step function health adapted'\n",
    "        impf_health_1_4.intensity_unit = 'm/s'\n",
    "        impf_health_1_4.intensity = np.array([21, 26, 29, 48, 60, 65, 70, 90])\n",
    "        impf_health_1_4.mdd = np.array([0, 0.03, 0.28, 0.45, 0.54, 0.55, 0.55, 0.55])\n",
    "        impf_health_1_4.paa = np.ones(impf_health_1_4.intensity.shape)\n",
    "        impf_health_1_4.check()\n",
    "        return impf_health_1_4\n",
    "\n",
    "    def indus_impf(self):\n",
    "        # adapted from figure N.1 (industrial 2 building) loss function, Hazus TC 2.1 (p.1115)\n",
    "        # medium terrain roughness parameter (z_theta = 0.35)\n",
    "        impf_indus = ImpactFunc() \n",
    "        impf_indus.id = 4\n",
    "        impf_indus.haz_type = 'TC'\n",
    "        impf_indus.name = 'Loss func. industrial building z0 = 0.35'\n",
    "        impf_indus.intensity_unit = 'm/s'\n",
    "        impf_indus.intensity = np.array([0, 30, 60, 80, 100, 120, 140, 160, 180, 200, 260]) / 2.237 \n",
    "        impf_indus.mdd =       np.array([0, 0,   0,   5,  15,  70,  98, 100, 100, 100, 100]) / 100\n",
    "        impf_indus.paa = np.sort(np.linspace(1, 1, num=11))\n",
    "        impf_indus.check()\n",
    "        return impf_indus\n",
    "        \n",
    "    def no_impf(self):\n",
    "        impf_none = ImpactFunc() \n",
    "        impf_none.id = 6\n",
    "        impf_none.haz_type = 'TC'\n",
    "        impf_none.name = 'No-impact func'\n",
    "        impf_none.intensity_unit = 'm/s'\n",
    "        impf_none.intensity = np.array([0,  140])  \n",
    "        impf_none.mdd =       np.array([0, 0 ])         \n",
    "        impf_none.paa = np.sort(np.linspace(1, 1, num=2))\n",
    "        impf_none.check()\n",
    "        return impf_none\n",
    "\n",
    "    def tele_impf(self):\n",
    "        # adapted from newspaper articles (\"cell towers to withstand up to 110 mph\")\n",
    "        impf_tele = ImpactFunc() \n",
    "        impf_tele.id = 3\n",
    "        impf_tele.haz_type = 'TC'\n",
    "        impf_tele.name = 'Loss func. cell tower'\n",
    "        impf_tele.intensity_unit = 'm/s'\n",
    "        impf_tele.intensity = np.array([0, 80, 100, 260]) / 2.237 #np.linspace(0, 120, num=13)\n",
    "        impf_tele.mdd =       np.array([0,  0, 100,  100]) / 100\n",
    "        impf_tele.paa = np.sort(np.linspace(1, 1, num=4))\n",
    "        impf_tele.check()\n",
    "        return impf_tele\n",
    "   \n",
    "    def p_fail_pl(self, v_eval, v_crit=30, v_coll=60):\n",
    "        \"\"\"\n",
    "        adapted from  https://ieeexplore.ieee.org/stamp/stamp.jsp?tp=&arnumber=7801854\n",
    "         Vulnerability Assessment for Power Transmission Lines under Typhoon \n",
    "        Weather Based on a Cascading Failure State Transition Diagram\n",
    "        \"\"\"\n",
    "        p_fail = []\n",
    "        for v in v_eval:\n",
    "            p = 0\n",
    "            if (v > v_crit) & (v < v_coll):\n",
    "                p = np.exp(0.6931*(v-v_crit)/v_crit)-1\n",
    "            elif v > v_coll:\n",
    "                p = 1\n",
    "            p_fail.append(p)\n",
    "        return p_fail\n",
    "    \n",
    "    def pl_impf(self, v_crit=30, v_coll=60):\n",
    "        # Power line\n",
    "        v_eval = np.linspace(0, 120, num=120)\n",
    "        p_fail_powerlines = self.p_fail_pl(v_eval, v_crit=v_crit, v_coll=v_coll)\n",
    "        impf_prob = ImpactFunc() \n",
    "        impf_prob.id = 1\n",
    "        impf_prob.tag = 'PL_Prob'\n",
    "        impf_prob.haz_type = 'TC'\n",
    "        impf_prob.name = 'power line failure prob'\n",
    "        impf_prob.intensity_unit = 'm/s'\n",
    "        impf_prob.intensity = np.array(v_eval)\n",
    "        impf_prob.mdd = np.array(p_fail_powerlines)\n",
    "        impf_prob.paa = np.sort(np.linspace(1, 1, num=120))\n",
    "        impf_prob.check()\n",
    "        return impf_prob\n",
    "    \n",
    "    def pl_impf_adapt(self, v_crit=35, v_coll=70):\n",
    "        # Power line\n",
    "        v_eval = np.linspace(0, 120, num=120)\n",
    "        p_fail_powerlines = self.p_fail_pl(v_eval, v_crit=v_crit, v_coll=v_coll)\n",
    "        impf_prob = ImpactFunc() \n",
    "        impf_prob.id = 11\n",
    "        impf_prob.tag = 'PL_Prob'\n",
    "        impf_prob.haz_type = 'TC'\n",
    "        impf_prob.name = 'power line failure prob, adapted'\n",
    "        impf_prob.intensity_unit = 'm/s'\n",
    "        impf_prob.intensity = np.array(v_eval)\n",
    "        impf_prob.mdd = np.array(p_fail_powerlines)\n",
    "        impf_prob.paa = np.sort(np.linspace(1, 1, num=120))\n",
    "        impf_prob.check()\n",
    "        return impf_prob\n",
    "    \n",
    "    def p_fail_powertower(self, v_eval, L=97.2, x0=77.8, k=0.3):\n",
    "        \"\"\"\n",
    "        L=95, x0=80, k=0.1:\n",
    "        adapted from https://ieeexplore.ieee.org/stamp/stamp.jsp?tp=&arnumber=7801854&tag=1,\n",
    "        based on 'base' class tower\n",
    "        \n",
    "        L=97.2, x0=77.8, k=0.3: adapted from https://arxiv.org/abs/2107.06072 Fragility curves for \n",
    "        power transmission towers in Odisha, India, \n",
    "        based on observed damage during 2019 Cyclone Fani; based on functionality disruption curve\n",
    "        \"\"\"\n",
    "        p_fail = []\n",
    "        for v in v_eval:\n",
    "            p_fail.append(L/(1 + np.exp(-k * (v-x0)))/100)        \n",
    "        return p_fail\n",
    "    \n",
    "    def pt_impf(self, L=95, x0=80, k=0.1):\n",
    "        # Power tower impact function \n",
    "        v_eval = np.linspace(0, 140, num=140)\n",
    "        p_fail_powertower = self.p_fail_powertower(v_eval, L=L, x0=x0, k=k) \n",
    "        impf_pt = ImpactFunc() \n",
    "        impf_pt.id = 8\n",
    "        impf_pt.haz_type = 'TC'\n",
    "        impf_pt.name = 'Disruption func. for power towers from strong winds'\n",
    "        impf_pt.intensity_unit = 'm/s'\n",
    "        impf_pt.intensity = np.array(v_eval)\n",
    "        impf_pt.mdd = np.array(p_fail_powertower)\n",
    "        impf_pt.paa = np.sort(np.linspace(1, 1, num=140))\n",
    "        impf_pt.check()\n",
    "        return impf_pt\n",
    "    \n",
    "    def pt_impf_adapt(self, L=105, x0=85, k=0.1):\n",
    "        # Power tower impact function \n",
    "        v_eval = np.linspace(0, 140, num=140)\n",
    "        p_fail_powertower = self.p_fail_powertower(v_eval, L=L, x0=x0, k=k) \n",
    "        impf_pt = ImpactFunc() \n",
    "        impf_pt.id = 12\n",
    "        impf_pt.haz_type = 'TC'\n",
    "        impf_pt.name = 'Disruption func. for power towers from strong winds, adapted'\n",
    "        impf_pt.intensity_unit = 'm/s'\n",
    "        impf_pt.intensity = np.array(v_eval)\n",
    "        impf_pt.mdd = np.array(p_fail_powertower)\n",
    "        impf_pt.paa = np.sort(np.linspace(1, 1, num=140))\n",
    "        impf_pt.check()\n",
    "        return impf_pt\n",
    " \n",
    "    def people_impf(self):\n",
    "        # Mapping of wind field >= hurricane scale 1 (33 m/s)\n",
    "        impf_ppl = ImpactFunc() \n",
    "        impf_ppl.id = 7\n",
    "        impf_ppl.haz_type = 'TC'\n",
    "        impf_ppl.name = 'People - Windfield Mapping >= TC'\n",
    "        impf_ppl.intensity_unit = 'm/s'\n",
    "        impf_ppl.intensity = np.array([0, 32, 33, 80, 100, 120, 140, 160]) \n",
    "        impf_ppl.mdd = np.array([0, 0,   100,  100,   100,  100,  100,  100]) / 100\n",
    "        impf_ppl.paa = np.sort(np.linspace(1, 1, num=8))\n",
    "        impf_ppl.check()\n",
    "        return impf_ppl\n",
    "    \n",
    "class ImpactThresh():\n",
    "    def __init__(self):\n",
    "        self.road = 500\n",
    "        self.power_line_e = 500\n",
    "        self.power_line_n = 0.4\n",
    "        self.power_tower = 500\n",
    "        self.celltower = 0.4\n",
    "        self.power_plant = 0.4\n",
    "        self.water_plant = 0.4\n",
    "        self.health = 0.4\n",
    "        self.education = 0.4\n",
    "        self.people = np.inf\n",
    "\n",
    "def ImpfClassDict():\n",
    "    return {\n",
    "        'FL' : ImpFuncsCIFlood(),\n",
    "        'TC' : ImpFuncsCIWind(),\n",
    "    }\n",
    "\n",
    "# =============================================================================\n",
    "# Hazard loading funcs\n",
    "# =============================================================================\n",
    "\n",
    "def load_wind_idai(cntry_shape, storm_id='2019063S18038'):\n",
    "    \"re-compute to 10 mins sustained winds for coherence with impact functions\"\n",
    "    tr_idai = TCTracks.from_ibtracs_netcdf(storm_id=storm_id)\n",
    "    tr_idai.data[0]['max_sustained_wind']*= 0.88\n",
    "    tr_idai.equal_timestep()\n",
    "    min_lat, max_lat, min_lon, max_lon = cntry_shape.bounds[1], cntry_shape.bounds[3], cntry_shape.bounds[0], cntry_shape.bounds[2]\n",
    "    cent_moz = Centroids.from_pnt_bounds((min_lon, min_lat, max_lon, max_lat), res=0.12)\n",
    "    cent_moz.check()\n",
    "    tc_idai = TropCyclone.from_tracks(tr_idai, centroids=cent_moz)\n",
    "    tc_idai.check()\n",
    "    return tc_idai\n",
    "\n",
    "def load_flood_idai(path_fl_file):\n",
    "    fl_idai = Hazard.from_raster([path_fl_file], dst_crs='epsg:4326', haz_type='FL') \n",
    "    fl_idai.centroids.set_meta_to_lat_lon() #Hazard('FL').from_raster(path_fl_file)\n",
    "    fl_idai.event_name = ['Flood_Idai']\n",
    "    return fl_idai       \n",
    "        \n",
    "# =============================================================================\n",
    "# Impact & cascade calc funcs\n",
    "# =============================================================================\n",
    "\n",
    "def gdf_from_network(df_edges_or_nodes, ci_type):\n",
    "    return df_edges_or_nodes[df_edges_or_nodes['ci_type']==ci_type]\n",
    "\n",
    "def exposure_from_nodes(gdf, tag=None, value=1):\n",
    "    exp_pnt = Exposures(gdf)\n",
    "    exp_pnt.tag = tag if tag is not None else gdf.ci_type.iloc[0]\n",
    "    exp_pnt.gdf['value'] = value\n",
    "    exp_pnt.set_lat_lon()\n",
    "    exp_pnt.check()\n",
    "    return exp_pnt\n",
    "      \n",
    "def exposure_from_edges(gdf, res, tag=None, disagg_met=u_lp.DisaggMethod.FIX, disagg_val=1):\n",
    "    exp_line = Exposures(gdf)\n",
    "    if not disagg_val:\n",
    "        disagg_val = res\n",
    "    exp_pnt = u_lp.exp_geom_to_pnt(exp_line, res=res, to_meters=True, \n",
    "                                   disagg_met=disagg_met, disagg_val=disagg_val)\n",
    "    exp_pnt.tag = tag if tag is not None else gdf.ci_type.iloc[0]\n",
    "    exp_pnt.set_lat_lon()\n",
    "    exp_pnt.check() \n",
    "    return exp_pnt\n",
    "\n",
    "def make_impfset(imp_class):\n",
    "    impfset = ImpactFuncSet()\n",
    "    for attribute in set(imp_class.__dict__.keys()).difference({'tag'}):\n",
    "        impfset.append(getattr(imp_class, attribute))\n",
    "    return impfset\n",
    "\n",
    "def assign_impfs(exp, haz_type, impfclass_dict=ImpfClassDict()):\n",
    "    exp.gdf[f'impf_{haz_type}'] = getattr(impfclass_dict[haz_type], exp.tag).id\n",
    "    \n",
    "def calc_point_impacts(haz, exp, impf_set):\n",
    "    imp = Impact()\n",
    "    imp.calc(exp, impf_set, haz, save_mat=True)\n",
    "    return imp\n",
    "\n",
    "def binary_impact_from_prob(imp, seed=47):\n",
    "    \"\"\"\n",
    "    where impact funcs were given as failure probability on y-axis: sample failure states\n",
    "    e.g. for wind damage to power lines, and wind damage to power towers\n",
    "    \"\"\"\n",
    "    np.random.seed = seed\n",
    "    rand = np.random.random(imp.imp_mat.data.size)\n",
    "    imp.imp_mat.data = np.array([1 if p_fail > rnd else 0 for p_fail, rnd in \n",
    "                                 zip(imp.imp_mat.data, rand)])\n",
    "    return imp\n",
    "\n",
    "def binary_to_origres(imp, orig_res):\n",
    "    \"\"\"\n",
    "    where failure states were sampled, assign real underlying damage value\n",
    "    \"\"\"\n",
    "    imp.imp_mat.data = imp.imp_mat.data*orig_res\n",
    "    return imp\n",
    "\n",
    "def impacts_to_network(imp, exp_tag, ci_network_disr):          \n",
    "    func_states = list(\n",
    "            map(int, imp.imp_mat.toarray().flatten()<=getattr(ImpactThresh(), exp_tag)))\n",
    "    \n",
    "    if exp_tag == 'road':\n",
    "        ci_network_disr.edges.loc[ci_network_disr.edges.ci_type=='road',\n",
    "                                  'func_internal'] = func_states\n",
    "        ci_network_disr.edges.loc[ci_network_disr.edges.ci_type=='road',\n",
    "                                  'imp_dir'] = imp.imp_mat.toarray().flatten()\n",
    "    elif exp_tag in ['power_line_e', 'power_tower']:\n",
    "        # power line edges and power towers are two impacts that are summed on the same exposure\n",
    "        ci_network_disr.edges.loc[ci_network_disr.edges.ci_type=='power_line',\n",
    "                                  'func_internal'] = [np.min(\n",
    "            [func_state, func_internal]) for func_state, func_internal in zip(\n",
    "            func_states, ci_network_disr.edges.loc[ci_network_disr.edges.ci_type=='power_line', 'func_internal'])]\n",
    "        ci_network_disr.edges.loc[ci_network_disr.edges.ci_type=='power_line', 'imp_dir'] += imp.imp_mat.toarray().flatten()\n",
    "        # power lines in one direction need to be impacted also in reverse direction\n",
    "\n",
    "    elif exp_tag=='power_line_n':\n",
    "        ci_network_disr.nodes.loc[\n",
    "                ci_network_disr.nodes.ci_type=='power_line', 'func_internal'] = func_states\n",
    "        ci_network_disr.nodes.loc[\n",
    "                ci_network_disr.nodes.ci_type=='power_line', 'imp_dir'] = imp.imp_mat.toarray().flatten()\n",
    "        \n",
    "    else:\n",
    "        ci_network_disr.nodes.loc[\n",
    "                ci_network_disr.nodes.ci_type==exp_tag, 'func_internal'] = func_states\n",
    "        ci_network_disr.nodes.loc[\n",
    "                ci_network_disr.nodes.ci_type==exp_tag, 'imp_dir'] = imp.imp_mat.toarray().flatten()\n",
    "        \n",
    "    ci_network_disr.edges['func_tot'] = [np.min([func_internal, func_tot]) for \n",
    "                                          func_internal, func_tot in zip(\n",
    "                                              ci_network_disr.edges.func_internal, \n",
    "                                              ci_network_disr.edges.func_tot)]\n",
    "    ci_network_disr.nodes['func_tot'] = [np.min([func_internal, func_tot]) for \n",
    "                                         func_internal, func_tot in zip(\n",
    "                                             ci_network_disr.nodes.func_internal, \n",
    "                                             ci_network_disr.nodes.func_tot)]\n",
    "        \n",
    "    return ci_network_disr\n",
    "\n",
    "def comb_imps_to_network(ci_network, df_res):\n",
    "    \"\"\"\n",
    "    analogous function to impact_to_network, but for combined result datafrane\n",
    "    from multihazard combined impacts\n",
    "    \"\"\"\n",
    "    ci_network_disr = deepcopy(ci_network)\n",
    "    # manually assign to network - roads\n",
    "    ci_network_disr.edges.loc[ci_network_disr.edges.ci_type=='road',\n",
    "                                  'func_internal'] = [np.min(\n",
    "        [func_state, func_internal]) for func_state, func_internal in zip(\n",
    "        df_res.loc[df_res.ci_type=='road','func_internal'], \n",
    "        ci_network_disr.edges.loc[ci_network_disr.edges.ci_type=='road', 'func_internal'])]\n",
    "    ci_network_disr.edges.loc[ci_network_disr.edges.ci_type=='road',\n",
    "                              'imp_dir'] = df_res.loc[df_res.ci_type=='road','imp_dir'].values\n",
    "    # manually assign to network - power lines edges\n",
    "    ci_network_disr.edges.loc[ci_network_disr.edges.ci_type=='power_line',\n",
    "                                  'func_internal'] = [np.min(\n",
    "        [func_state, func_internal]) for func_state, func_internal in zip(\n",
    "        df_res.loc[(df_res.ci_type=='power_line')&(df_res.geometry.type=='LineString'),'func_internal'], \n",
    "        ci_network_disr.edges.loc[ci_network_disr.edges.ci_type=='power_line', 'func_internal'])]\n",
    "    ci_network_disr.edges.loc[ci_network_disr.edges.ci_type=='power_line',\n",
    "                                  'imp_dir'] = df_res.loc[(df_res.\n",
    "                                                           ci_type=='power_line')&\n",
    "                                                          (df_res.geometry.type=='LineString'),'imp_dir']\n",
    "    # manually assign to network - power lines nodes\n",
    "    ci_network_disr.nodes.loc[ci_network_disr.nodes.ci_type=='power_line',\n",
    "                                  'func_internal'] = [np.min(\n",
    "        [func_state, func_internal]) for func_state, func_internal in zip(\n",
    "        df_res.loc[(df_res.ci_type=='power_line')&(df_res.geometry.type=='Point'),'func_internal'], \n",
    "        ci_network_disr.nodes.loc[ci_network_disr.nodes.ci_type=='power_line', 'func_internal'])]\n",
    "    ci_network_disr.nodes.loc[ci_network_disr.nodes.ci_type=='power_line',\n",
    "                                  'imp_dir'] = df_res.loc[(df_res.\n",
    "                                                           ci_type=='power_line')&\n",
    "                                                          (df_res.geometry.type=='Point'),'imp_dir']\n",
    "    # manually assign to network - cell towers, power plants, schools, hospitals\n",
    "    for ci_type in ['celltower', 'power_plant', 'health', 'education']:\n",
    "        ci_network_disr.nodes.loc[\n",
    "            ci_network_disr.nodes.ci_type==ci_type,'func_internal'] = [np.min(\n",
    "            [func_state, func_internal]) for func_state, func_internal in zip(\n",
    "            df_res.loc[df_res.ci_type==ci_type,'func_internal'], \n",
    "            ci_network_disr.nodes.loc[ci_network_disr.nodes.ci_type==ci_type, 'func_internal'])]\n",
    "        ci_network_disr.nodes.loc[\n",
    "            ci_network_disr.nodes.ci_type==ci_type,\n",
    "            'imp_dir'] = df_res.loc[df_res.ci_type==ci_type,'imp_dir']\n",
    "    \n",
    "    ci_network_disr.edges['func_tot'] = [np.min([func_internal, func_tot]) for \n",
    "                                          func_internal, func_tot in zip(\n",
    "                                              ci_network_disr.edges.func_internal, \n",
    "                                              ci_network_disr.edges.func_tot)]\n",
    "    ci_network_disr.nodes['func_tot'] = [np.min([func_internal, func_tot]) for \n",
    "                                         func_internal, func_tot in zip(\n",
    "                                             ci_network_disr.nodes.func_internal, \n",
    "                                             ci_network_disr.nodes.func_tot)]\n",
    "    return ci_network_disr\n",
    "\n",
    "def load_friction_surf(PATH_FRICTION, cntry_shape):\n",
    "    friction_surf = Hazard('FRIC').from_raster(\n",
    "    PATH_FRICTION, geometry=[cntry_shape.convex_hull.buffer(0.1)])\n",
    "    return friction_surf\n",
    "\n",
    "# save selected results as feather gdf\n",
    "def save_resultdf(ci_graph_disr, path_save, event_name):\n",
    "    ci_network_disr = ci_graph_disr.return_network()\n",
    "    vars_to_keep_edges = ['ci_type', 'func_internal', 'func_tot', 'imp_dir','geometry']\n",
    "    vars_to_keep_nodes = vars_to_keep_edges.copy() \n",
    "    vars_to_keep_nodes.extend([colname for colname in ci_network_disr.nodes.columns  if 'actual_supply_' in colname])\n",
    "    vars_to_keep_nodes.extend(['counts'])\n",
    "        \n",
    "    df_res = ci_network_disr.nodes[ci_network_disr.nodes.ci_type=='people'][vars_to_keep_nodes]\n",
    "    for ci_type in ['health', 'education', 'celltower', 'power_plant', 'power_line']:\n",
    "        df_res = df_res.append(ci_network_disr.nodes[ci_network_disr.nodes.ci_type==ci_type]\n",
    "                                   [vars_to_keep_nodes])\n",
    "    for ci_type in ['power_line', 'road']:\n",
    "        df_res = df_res.append(ci_network_disr.edges[ci_network_disr.edges.ci_type==ci_type]\n",
    "                                   [vars_to_keep_edges])\n",
    "    df_res.to_feather(path_save+f'cascade_results_{event_name}')\n",
    "\n",
    "\n",
    "def wrapper_impacts_cascades_saving(haz, ci_network, exp_list, df_dependencies, friction_surf):\n",
    "    \"\"\"\n",
    "    Parameters\n",
    "    ----------\n",
    "    haz: Hazard\n",
    "    ci_network : Network\n",
    "    exp_list : [exp_health, exp_educ, exp_celltowers, exp_pplant, exp_pline_n, exp_pline_e, exp_ptower, exp_road]\n",
    "    df_dependencies : pd.DataFrame\n",
    "    friction_surf : Hazard\n",
    "    \n",
    "    Returns\n",
    "    -------\n",
    "    imp_dict : Dict\n",
    "        Basic service impacts compared to baseline\n",
    "    \"\"\"\n",
    "    if not os.path.isfile(path_save+f'cascade_results_{haz.event_name[0]}'):\n",
    "        print(haz.event_name)\n",
    "        # IMPACT CALCS\n",
    "        ci_network_disr = deepcopy(ci_network)\n",
    "        for exp in exp_list:\n",
    "            imp = calc_point_impacts(haz, exp, impf_set)\n",
    "            if (haz_type in ['TC', 'EQ']) & (exp.tag in ['power_line_e', 'power_tower']):\n",
    "                imp = binary_impact_from_prob(imp, seed=47)\n",
    "                imp = binary_to_origres(imp, res_orig)\n",
    "            if exp.tag in ['road', 'power_line_e', 'power_tower']:\n",
    "                imp = u_lp.impact_pnt_agg(imp, exp.gdf, u_lp.AggMethod.SUM)\n",
    "            ci_network_disr = impacts_to_network(imp, exp.tag, ci_network_disr)\n",
    "\n",
    "        # IMPACT CASCADES\n",
    "        ci_graph_disr = Graph(ci_network_disr, directed=True)\n",
    "        ci_graph_disr.cascade(df_dependencies, p_source='power_plant', p_sink='power_line', \n",
    "                              source_var='el_generation', demand_var='el_consumption',\n",
    "                              preselect=False, initial=False, friction_surf=friction_surf, \n",
    "                              dur_thresh=60)\n",
    "\n",
    "        # SAVE RESULTS\n",
    "        save_resultdf(ci_graph_disr, path_save, haz.event_name[0])\n",
    "        # CALC IMPACTSTATS\n",
    "        ci_network_disr = ci_graph_disr.return_network()\n",
    "        imp_dict = nwu.disaster_impact_allservices_df(ci_network.nodes, ci_network_disr.nodes, \n",
    "                                                      services=['power', 'healthcare', 'education', \n",
    "                                                                'telecom', 'mobility'])\n",
    "        imp_dict['people'] = sum(ci_network_disr.nodes[ci_network_disr.nodes.ci_type=='people'].imp_dir)\n",
    "        return imp_dict\n",
    "    \n",
    "    df_res = gpd.read_feather(path_save+f'cascade_results_{haz.event_name[0]}')\n",
    "    return nwu.disaster_impact_allservices_df(\n",
    "        ci_network.nodes, df_res, \n",
    "        services =['power', 'healthcare', 'education', 'telecom',  'mobility', 'people'])\n",
    "     \n",
    "\n",
    "def combine_result_dfs(df_res1, df_res2):\n",
    "    \"\"\"\n",
    "    Combine direct impacts, and assign combined internal functionality\n",
    "    \"\"\"\n",
    "    df_res = deepcopy(df_res_tc)\n",
    "    # simply sum direct impacts\n",
    "    df_res['imp_dir'] = df_res_tc['imp_dir']+df_res_fl['imp_dir']\n",
    "    # allocate failure thresholds\n",
    "    df_res['func_thresh'] = 0\n",
    "    for ci_type in ['celltower', 'power_plant', 'health', 'education', 'road']:\n",
    "        df_res.loc[df_res.ci_type==ci_type, 'func_thresh'] = getattr(ImpactThresh(), ci_type)\n",
    "    # power lines edges\n",
    "    df_res.loc[(df_res.ci_type=='power_line')&\n",
    "               (df_res.geometry.type=='LineString'), 'func_thresh'] = getattr(ImpactThresh(), 'power_line_e')\n",
    "    # power lines nodes\n",
    "    df_res.loc[(df_res.ci_type=='power_line')&\n",
    "               (df_res.geometry.type=='Point'), 'func_thresh'] = getattr(ImpactThresh(), 'power_line_n')\n",
    "    #assign internal functional state\n",
    "    df_res['func_internal'] = np.array(list(map(int, df_res.imp_dir.values<=df_res.func_thresh.values)))\n",
    "    return df_res\n"
   ]
  },
  {
   "cell_type": "code",
   "execution_count": 2,
   "id": "3a093045",
   "metadata": {},
   "outputs": [],
   "source": [
    "    cntry = 'Mozambique'\n",
    "    haz_type = 'FL'\n",
    "    iso3 = u_coord.country_to_iso(cntry)\n",
    "    path_root = '/cluster/work/climate/evelynm/nw_outputs'\n",
    "    path_edges  = f'{path_root}/{iso3}/cis_nw_edges'\n",
    "    path_nodes = f'{path_root}/{iso3}/cis_nw_nodes'\n",
    "    path_save = f'{path_root}/{iso3}/moz_project/'\n",
    "    path_deps = f'{path_root}/{iso3}/dependency_table_{iso3}.csv'\n",
    "    path_fl_file = '/cluster/work/climate/evelynm/nw_outputs/MOZ/floodmaks_idai_margherita.tif'\n",
    "    PATH_FRICTION = '/cluster/work/climate/evelynm/nw_inputs/friction/202001_Global_Walking_Only_Friction_Surface_2019.tif'\n",
    "        "
   ]
  },
  {
   "cell_type": "code",
   "execution_count": 10,
   "id": "2cfc48f9",
   "metadata": {},
   "outputs": [],
   "source": [
    "\n",
    "   \n",
    "    # LOAD PRE_COMPUTED FILES\n",
    "    ci_network = Network(edges=gpd.read_feather(path_edges), \n",
    "                         nodes=gpd.read_feather(path_nodes))\n",
    "    df_dependencies = pd.read_csv(path_deps)\n",
    "    \n",
    "    __, cntry_shape = u_coord.get_admin1_info([cntry])\n",
    "    cntry_shape = shapely.ops.unary_union([shp for shp in cntry_shape[iso3]])\n",
    "    \n",
    "    friction_surf = load_friction_surf(PATH_FRICTION, cntry_shape)\n",
    "     \n",
    "    \n",
    "    # LOAD HAZARD FILES\n",
    "    if haz_type=='FL':\n",
    "        haz = load_flood_idai(path_fl_file)\n",
    "        \n",
    "    elif haz_type=='TC':\n",
    "        haz = load_wind_idai(cntry_shape)\n",
    "   \n",
    "    if haz_type in ['FL', 'TC']:\n",
    "    # MAKE EXPOSURES OR LOAD\n",
    "        if not os.path.isdir(path_save+'exposures'):\n",
    "            os.mkdir(path_save+'exposures')\n",
    "            # point exposures \n",
    "            exp_health = exposure_from_nodes(gdf_from_network(ci_network.nodes, 'health'))\n",
    "            exp_educ = exposure_from_nodes(gdf_from_network(ci_network.nodes, 'education'))\n",
    "            exp_celltowers = exposure_from_nodes(gdf_from_network(ci_network.nodes, 'celltower'))\n",
    "            exp_pplant = exposure_from_nodes(gdf_from_network(ci_network.nodes, 'power_plant'))\n",
    "            exp_pline_n = exposure_from_nodes(gdf_from_network(ci_network.nodes, 'power_line'), tag='power_line_n')\n",
    "            gdf_ppl = gdf_from_network(ci_network.nodes, 'people')\n",
    "            exp_people = exposure_from_nodes(gdf_ppl, value=gdf_ppl.counts)\n",
    "        \n",
    "            # line exposures    \n",
    "            res_orig = 500\n",
    "            disagg_val_pline = res_orig\n",
    "            disagg_val_road = res_orig # damage fraction on y-axis\n",
    "            \n",
    "            exp_pline_e = exposure_from_edges(gdf_from_network(ci_network.edges, 'power_line'),\n",
    "                                              res=res_orig, disagg_val=disagg_val_pline, tag='power_line_e')\n",
    "            exp_ptower = exposure_from_edges(gdf_from_network(ci_network.edges, 'power_line'),\n",
    "                                              res=res_orig, disagg_val=disagg_val_pline, tag='power_tower')\n",
    "            exp_road = exposure_from_edges(gdf_from_network(ci_network.edges, 'road'),\n",
    "                                           res=res_orig, disagg_val=disagg_val_road)\n",
    "            for exp in [exp_health, exp_educ, exp_celltowers, exp_pplant, \n",
    "                        exp_pline_n, exp_pline_e, exp_ptower, exp_road, exp_people]:\n",
    "                exp.write_hdf5(path_save+f'exposures/exp_{exp.tag}')\n",
    "    \n",
    "        else:\n",
    "            exp_health = Exposures.from_hdf5(path_save+'exposures/exp_health')\n",
    "            exp_educ =  Exposures.from_hdf5(path_save+'exposures/exp_education')\n",
    "            exp_celltowers =  Exposures.from_hdf5(path_save+'exposures/exp_celltower')\n",
    "            exp_pplant =  Exposures.from_hdf5(path_save+'exposures/exp_power_plant')\n",
    "            exp_pline_n =  Exposures.from_hdf5(path_save+'exposures/exp_power_line_n')\n",
    "            exp_people =  Exposures.from_hdf5(path_save+'exposures/exp_people')\n",
    "            exp_pline_e = Exposures.from_hdf5(path_save+'exposures/exp_power_line_e')\n",
    "            exp_ptower = Exposures.from_hdf5(path_save+'exposures/exp_power_tower')\n",
    "            exp_road = Exposures.from_hdf5(path_save+'exposures/exp_road')\n",
    "        exp_pline_e.gdf['value'] = 500 if haz_type in ['FL', 'RF'] else 1 # damage fraction on y-axis for FL, failure prob on y-axis for EQ and TC\n",
    "        exp_list = [exp_health, exp_educ, exp_celltowers, exp_pplant, \n",
    "                    exp_pline_n, exp_pline_e, exp_ptower, exp_road, exp_people]\n",
    "       \n",
    "        for exp in exp_list:\n",
    "                assign_impfs(exp, haz_type)\n",
    "    \n",
    "        impf_set = make_impfset(ImpfClassDict()[haz_type])\n",
    "        # CASCADE\n",
    "        imp_dict = wrapper_impacts_cascades_saving(haz, ci_network, exp_list, df_dependencies, friction_surf)\n",
    "    \n",
    "    elif haz_type=='TCFL':\n",
    "        # combine direct flood & wind impacts from previous runs\n",
    "        df_res_tc = gpd.read_feather(path_save+'cascade_results_2019063S18038')\n",
    "        df_res_fl = gpd.read_feather(path_save+'cascade_results_Flood_Idai')\n",
    "        df_res = combine_result_dfs(df_res_tc, df_res_fl)\n",
    "    \n",
    "        ci_network_disr = comb_imps_to_network(ci_network, df_res)\n",
    "        # IMPACT CASCADES\n",
    "        ci_graph_disr = Graph(ci_network_disr, directed=True)\n",
    "        ci_graph_disr.cascade(df_dependencies, p_source='power_plant', p_sink='power_line', \n",
    "                              source_var='el_generation', demand_var='el_consumption',\n",
    "                              preselect=False, initial=False, friction_surf=friction_surf, \n",
    "                              dur_thresh=60)\n",
    "\n",
    "        # SAVE RESULTS\n",
    "        save_resultdf(ci_graph_disr, path_save, haz.event_name[0])\n",
    "        # CALC IMPACTSTATS\n",
    "        ci_network_disr = ci_graph_disr.return_network()\n",
    "        imp_dict = nwu.disaster_impact_allservices_df(ci_network.nodes, ci_network_disr.nodes, \n",
    "                                                      services=['power', 'healthcare', 'education', \n",
    "                                                                'telecom', 'mobility'])\n",
    "        imp_dict['people'] = sum(ci_network_disr.nodes[ci_network_disr.nodes.ci_type=='people'].imp_dir)"
   ]
  },
  {
   "cell_type": "code",
   "execution_count": 16,
   "id": "9aef7f5b",
   "metadata": {
    "scrolled": true
   },
   "outputs": [
    {
     "name": "stdout",
     "output_type": "stream",
     "text": [
      "['Flood_Idai']\n",
      "2023-01-24 16:33:19,103 - climada.engine.impact - WARNING - The use of Impact().calc() is deprecated. Use ImpactCalc().impact() instead.\n",
      "2023-01-24 16:34:08,133 - climada.engine.impact - WARNING - The use of Impact().calc() is deprecated. Use ImpactCalc().impact() instead.\n",
      "2023-01-24 16:34:56,888 - climada.engine.impact - WARNING - The use of Impact().calc() is deprecated. Use ImpactCalc().impact() instead.\n",
      "2023-01-24 16:35:45,695 - climada.engine.impact - WARNING - The use of Impact().calc() is deprecated. Use ImpactCalc().impact() instead.\n",
      "2023-01-24 16:36:34,095 - climada.engine.impact - WARNING - The use of Impact().calc() is deprecated. Use ImpactCalc().impact() instead.\n",
      "2023-01-24 16:37:22,644 - climada.engine.impact - WARNING - The use of Impact().calc() is deprecated. Use ImpactCalc().impact() instead.\n",
      "2023-01-24 16:38:12,729 - climada.engine.impact - WARNING - The use of Impact().calc() is deprecated. Use ImpactCalc().impact() instead.\n",
      "2023-01-24 16:39:02,620 - climada.engine.impact - WARNING - The use of Impact().calc() is deprecated. Use ImpactCalc().impact() instead.\n",
      "2023-01-24 16:40:21,879 - climada.engine.impact - WARNING - The use of Impact().calc() is deprecated. Use ImpactCalc().impact() instead.\n",
      "2023-01-24 16:42:42,837 - climada_petals.engine.networks.nw_calcs - INFO - Updating functional states. Current func.-state delta : -1\n",
      "2023-01-24 16:42:42,929 - climada_petals.engine.networks.nw_calcs - INFO - Updating roads\n",
      "2023-01-24 16:42:43,530 - climada_petals.engine.networks.nw_calcs - INFO - Updating power clusters\n",
      "2023-01-24 16:42:44,266 - climada_petals.engine.networks.nw_calcs - INFO - Using updated power line algorithm: dysfunc edges before:\n",
      "                  0, after: 0\n",
      "2023-01-24 16:43:09,798 - climada_petals.engine.networks.nw_calcs - INFO - Updating functional states. Current func.-state delta : 5235\n",
      "2023-01-24 16:43:10,042 - climada_petals.engine.networks.nw_calcs - INFO - Updating roads\n",
      "2023-01-24 16:43:10,639 - climada_petals.engine.networks.nw_calcs - INFO - Updating power clusters\n",
      "2023-01-24 16:43:11,352 - climada_petals.engine.networks.nw_calcs - INFO - Using updated power line algorithm: dysfunc edges before:\n",
      "                  0, after: 0\n",
      "2023-01-24 16:43:33,228 - climada_petals.engine.networks.nw_calcs - INFO - Ended functional state update. Proceeding to end-user update.\n",
      "2023-01-24 16:43:36,672 - climada_petals.engine.networks.nw_calcs - INFO - Re-calculating paths from education to people\n",
      "2023-01-24 16:43:37,506 - climada.entity.impact_funcs.impact_func_set - WARNING - Input ImpactFunc's hazard type not set.\n"
     ]
    },
    {
     "name": "stderr",
     "output_type": "stream",
     "text": [
      "/cluster/apps/nss/gcc-8.2.0/python/3.9.9/x86_64/lib64/python3.9/site-packages/pandas/core/dtypes/cast.py:118: ShapelyDeprecationWarning: The array interface is deprecated and will no longer work in Shapely 2.0. Convert the '.coords' to a numpy array instead.\n",
      "  arr = construct_1d_object_array_from_listlike(values)\n"
     ]
    },
    {
     "name": "stdout",
     "output_type": "stream",
     "text": [
      "2023-01-24 17:12:37,751 - climada.engine.impact - WARNING - The use of Impact().calc() is deprecated. Use ImpactCalc().impact() instead.\n",
      "2023-01-24 17:12:43,507 - climada.hazard.base - WARNING - Impact function id=1 has mdr(0) != 0.The mean damage ratio must thus be computed for all values ofhazard intensity including 0 which can be very time consuming.\n",
      "Time for recalculating from education to people : 6711.636098003946\n",
      "2023-01-24 18:35:31,277 - climada_petals.engine.networks.nw_calcs - INFO - Re-calculating paths from health to people\n"
     ]
    },
    {
     "name": "stderr",
     "output_type": "stream",
     "text": [
      "/cluster/apps/nss/gcc-8.2.0/python/3.9.9/x86_64/lib64/python3.9/site-packages/pandas/core/dtypes/cast.py:118: ShapelyDeprecationWarning: The array interface is deprecated and will no longer work in Shapely 2.0. Convert the '.coords' to a numpy array instead.\n",
      "  arr = construct_1d_object_array_from_listlike(values)\n"
     ]
    },
    {
     "name": "stdout",
     "output_type": "stream",
     "text": [
      "2023-01-24 18:36:27,934 - climada.entity.impact_funcs.impact_func_set - WARNING - Input ImpactFunc's hazard type not set.\n"
     ]
    },
    {
     "name": "stderr",
     "output_type": "stream",
     "text": [
      "/cluster/apps/nss/gcc-8.2.0/python/3.9.9/x86_64/lib64/python3.9/site-packages/pandas/core/dtypes/cast.py:118: ShapelyDeprecationWarning: The array interface is deprecated and will no longer work in Shapely 2.0. Convert the '.coords' to a numpy array instead.\n",
      "  arr = construct_1d_object_array_from_listlike(values)\n"
     ]
    },
    {
     "name": "stdout",
     "output_type": "stream",
     "text": [
      "2023-01-24 18:39:38,640 - climada.engine.impact - WARNING - The use of Impact().calc() is deprecated. Use ImpactCalc().impact() instead.\n",
      "2023-01-24 18:39:38,904 - climada.hazard.base - WARNING - Impact function id=1 has mdr(0) != 0.The mean damage ratio must thus be computed for all values ofhazard intensity including 0 which can be very time consuming.\n",
      "Time for recalculating friction from health to people : 261.6442573936656\n",
      "Time for recalculating paths from health to people : 366.45889290515333\n",
      "2023-01-24 18:46:10,340 - climada_petals.engine.networks.nw_calcs - INFO - Re-calculating paths from road to people\n"
     ]
    },
    {
     "name": "stderr",
     "output_type": "stream",
     "text": [
      "/cluster/apps/nss/gcc-8.2.0/python/3.9.9/x86_64/lib64/python3.9/site-packages/pandas/core/dtypes/cast.py:118: ShapelyDeprecationWarning: The array interface is deprecated and will no longer work in Shapely 2.0. Convert the '.coords' to a numpy array instead.\n",
      "  arr = construct_1d_object_array_from_listlike(values)\n",
      "/cluster/apps/nss/gcc-8.2.0/python/3.9.9/x86_64/lib64/python3.9/site-packages/pandas/core/dtypes/cast.py:118: ShapelyDeprecationWarning: The array interface is deprecated and will no longer work in Shapely 2.0. Convert the '.coords' to a numpy array instead.\n",
      "  arr = construct_1d_object_array_from_listlike(values)\n",
      "/scratch/tmp.7498679.evelynm/ipykernel_18312/1760757038.py:520: UserWarning: this is an initial implementation of Parquet/Feather file support and associated metadata.  This is tracking version 0.1.0 of the metadata specification at https://github.com/geopandas/geo-arrow-spec\n",
      "\n",
      "This metadata specification does not yet make stability promises.  We do not yet recommend using this in a production setting unless you are able to rewrite your Parquet/Feather files.\n",
      "\n",
      "To further ignore this warning, you can do: \n",
      "import warnings; warnings.filterwarnings('ignore', message='.*initial implementation of Parquet.*')\n",
      "  df_res.to_feather(path_save+f'cascade_results_{event_name}')\n",
      "/cluster/apps/nss/gcc-8.2.0/python/3.9.9/x86_64/lib64/python3.9/site-packages/pandas/core/dtypes/cast.py:118: ShapelyDeprecationWarning: The array interface is deprecated and will no longer work in Shapely 2.0. Convert the '.coords' to a numpy array instead.\n",
      "  arr = construct_1d_object_array_from_listlike(values)\n",
      "/cluster/apps/nss/gcc-8.2.0/python/3.9.9/x86_64/lib64/python3.9/site-packages/pandas/core/dtypes/cast.py:118: ShapelyDeprecationWarning: The array interface is deprecated and will no longer work in Shapely 2.0. Convert the '.coords' to a numpy array instead.\n",
      "  arr = construct_1d_object_array_from_listlike(values)\n"
     ]
    }
   ],
   "source": []
  },
  {
   "cell_type": "code",
   "execution_count": 17,
   "id": "237d7913",
   "metadata": {},
   "outputs": [
    {
     "data": {
      "text/plain": [
       "{'power': 195211.86215782166,\n",
       " 'healthcare': 560171.876572609,\n",
       " 'education': 620232.2445087433,\n",
       " 'telecom': 118919.34086608887,\n",
       " 'mobility': 493239.2402677536,\n",
       " 'people': 332552.2472047806}"
      ]
     },
     "execution_count": 17,
     "metadata": {},
     "output_type": "execute_result"
    }
   ],
   "source": [
    "with open(path_save+f'service_stats_idai_{haz_type}.pkl', 'wb') as f:\n",
    "    pickle.dump(imp_dict, f)    \n",
    "imp_dict"
   ]
  },
  {
   "cell_type": "markdown",
   "id": "bffcf3b2",
   "metadata": {},
   "source": [
    "### Inspect Results"
   ]
  },
  {
   "cell_type": "code",
   "execution_count": 3,
   "id": "7ebfe36d",
   "metadata": {},
   "outputs": [
    {
     "data": {
      "text/plain": [
       "{'power': 195211.86215782166,\n",
       " 'healthcare': 560171.876572609,\n",
       " 'education': 620232.2445087433,\n",
       " 'telecom': 118919.34086608887,\n",
       " 'mobility': 493239.2402677536,\n",
       " 'people': 332552.2472047806}"
      ]
     },
     "execution_count": 3,
     "metadata": {},
     "output_type": "execute_result"
    }
   ],
   "source": [
    "with open(path_save+f'service_stats_idai_FL.pkl', 'rb') as fl_stats_dict:\n",
    "     fl_stats_dict = pickle.load(fl_stats_dict)\n",
    "fl_stats_dict"
   ]
  },
  {
   "cell_type": "code",
   "execution_count": 12,
   "id": "2cb5b83c",
   "metadata": {},
   "outputs": [
    {
     "data": {
      "text/plain": [
       "{'power': 195000.0,\n",
       " 'healthcare': 560000.0,\n",
       " 'education': 620000.0,\n",
       " 'telecom': 119000.0,\n",
       " 'mobility': 493000.0,\n",
       " 'people': 333000.0,\n",
       " 'service': 195000.0}"
      ]
     },
     "execution_count": 12,
     "metadata": {},
     "output_type": "execute_result"
    }
   ],
   "source": [
    "for service, value in fl_stats_dict.items():\n",
    "    fl_stats_dict[service] = np.round(value, -3)\n",
    "fl_stats_dict"
   ]
  },
  {
   "cell_type": "code",
   "execution_count": 4,
   "id": "6d4ea77d",
   "metadata": {},
   "outputs": [
    {
     "data": {
      "text/plain": [
       "{'power': 4553453.019901276,\n",
       " 'healthcare': 6356983.127802849,\n",
       " 'education': 6081105.321388245,\n",
       " 'telecom': 6832573.499279976,\n",
       " 'mobility': 603051.0693902969,\n",
       " 'people': 1917423.224806425}"
      ]
     },
     "execution_count": 4,
     "metadata": {},
     "output_type": "execute_result"
    }
   ],
   "source": [
    "with open(path_save+f'service_stats_idai_TC.pkl', 'rb') as tc_stats_dict:\n",
    "     tc_stats_dict = pickle.load(tc_stats_dict)\n",
    "tc_stats_dict"
   ]
  },
  {
   "cell_type": "code",
   "execution_count": 13,
   "id": "8034d291",
   "metadata": {},
   "outputs": [
    {
     "data": {
      "text/plain": [
       "{'power': 4553000.0,\n",
       " 'healthcare': 6357000.0,\n",
       " 'education': 6081000.0,\n",
       " 'telecom': 6833000.0,\n",
       " 'mobility': 603000.0,\n",
       " 'people': 1917000.0}"
      ]
     },
     "execution_count": 13,
     "metadata": {},
     "output_type": "execute_result"
    }
   ],
   "source": [
    "for service, value in tc_stats_dict.items():\n",
    "    tc_stats_dict[service] = np.round(value, -3)\n",
    "tc_stats_dict"
   ]
  },
  {
   "cell_type": "code",
   "execution_count": 5,
   "id": "e347c140",
   "metadata": {},
   "outputs": [
    {
     "data": {
      "text/plain": [
       "{'power': 4573249.910671234,\n",
       " 'healthcare': 6494947.520545006,\n",
       " 'education': 6228517.498864174,\n",
       " 'telecom': 6832573.499279976,\n",
       " 'mobility': 991282.6636781693,\n",
       " 'people': 0.0}"
      ]
     },
     "execution_count": 5,
     "metadata": {},
     "output_type": "execute_result"
    }
   ],
   "source": [
    "with open(path_save+f'service_stats_idai_TCFL.pkl', 'rb') as tcfl_stats_dict:\n",
    "     tcfl_stats_dict = pickle.load(tcfl_stats_dict)\n",
    "tcfl_stats_dict"
   ]
  },
  {
   "cell_type": "code",
   "execution_count": 14,
   "id": "533dad1f",
   "metadata": {},
   "outputs": [
    {
     "data": {
      "text/plain": [
       "{'power': 4573000.0,\n",
       " 'healthcare': 6495000.0,\n",
       " 'education': 6229000.0,\n",
       " 'telecom': 6833000.0,\n",
       " 'mobility': 991000.0,\n",
       " 'people': 0.0}"
      ]
     },
     "execution_count": 14,
     "metadata": {},
     "output_type": "execute_result"
    }
   ],
   "source": [
    "for service, value in tcfl_stats_dict.items():\n",
    "    tcfl_stats_dict[service] = np.round(value, -3)\n",
    "tcfl_stats_dict"
   ]
  },
  {
   "cell_type": "code",
   "execution_count": null,
   "id": "bf296c5e",
   "metadata": {},
   "outputs": [],
   "source": []
  },
  {
   "cell_type": "code",
   "execution_count": 6,
   "id": "dd510870",
   "metadata": {},
   "outputs": [
    {
     "data": {
      "text/plain": [
       "{'power': 4544253.950805664,\n",
       " 'healthcare': 6216017.271029472,\n",
       " 'education': 6129095.797596931,\n",
       " 'telecom': 6717837.169682503,\n",
       " 'mobility': 991282.6636781693,\n",
       " 'people': 2249975.472011209}"
      ]
     },
     "execution_count": 6,
     "metadata": {},
     "output_type": "execute_result"
    }
   ],
   "source": [
    "with open(path_save+f'service_stats_idai_MS1.pkl', 'rb') as ms1_stats_dict:\n",
    "     ms1_stats_dict = pickle.load(ms1_stats_dict)\n",
    "ms1_stats_dict"
   ]
  },
  {
   "cell_type": "code",
   "execution_count": 7,
   "id": "803b7253",
   "metadata": {},
   "outputs": [
    {
     "data": {
      "text/plain": [
       "{'power': 4022936.7932128906,\n",
       " 'healthcare': 6445862.695230484,\n",
       " 'education': 6122097.713276863,\n",
       " 'telecom': 6717837.169682503,\n",
       " 'mobility': 984381.2374258041,\n",
       " 'people': 2249975.472011209}"
      ]
     },
     "execution_count": 7,
     "metadata": {},
     "output_type": "execute_result"
    }
   ],
   "source": [
    "with open(path_save+f'service_stats_idai_MS2.pkl', 'rb') as ms2_stats_dict:\n",
    "     ms2_stats_dict = pickle.load(ms2_stats_dict)\n",
    "ms2_stats_dict"
   ]
  },
  {
   "cell_type": "code",
   "execution_count": 8,
   "id": "96cd82d5",
   "metadata": {},
   "outputs": [
    {
     "data": {
      "text/plain": [
       "{'power': 4536895.020533562,\n",
       " 'healthcare': 6436892.203515053,\n",
       " 'education': 6127267.787934303,\n",
       " 'telecom': 6717837.169682503,\n",
       " 'mobility': 989126.6178808212,\n",
       " 'people': 2249975.472011209}"
      ]
     },
     "execution_count": 8,
     "metadata": {},
     "output_type": "execute_result"
    }
   ],
   "source": [
    "with open(path_save+f'service_stats_idai_MS3.pkl', 'rb') as ms3_stats_dict:\n",
    "     ms3_stats_dict = pickle.load(ms3_stats_dict)\n",
    "ms3_stats_dict"
   ]
  },
  {
   "cell_type": "code",
   "execution_count": 12,
   "id": "a05c5898",
   "metadata": {},
   "outputs": [],
   "source": [
    "df_res_tc = gpd.read_feather(path_save+f'cascade_results_2019063S18038')"
   ]
  },
  {
   "cell_type": "code",
   "execution_count": 45,
   "id": "4bf597c4",
   "metadata": {},
   "outputs": [],
   "source": [
    "df_res_tcfl = gpd.read_feather(path_save+f'cascade_results_TCFL_Idai')\n"
   ]
  },
  {
   "cell_type": "code",
   "execution_count": 46,
   "id": "06839cb8",
   "metadata": {},
   "outputs": [
    {
     "data": {
      "text/html": [
       "<div>\n",
       "<style scoped>\n",
       "    .dataframe tbody tr th:only-of-type {\n",
       "        vertical-align: middle;\n",
       "    }\n",
       "\n",
       "    .dataframe tbody tr th {\n",
       "        vertical-align: top;\n",
       "    }\n",
       "\n",
       "    .dataframe thead th {\n",
       "        text-align: right;\n",
       "    }\n",
       "</style>\n",
       "<table border=\"1\" class=\"dataframe\">\n",
       "  <thead>\n",
       "    <tr style=\"text-align: right;\">\n",
       "      <th></th>\n",
       "      <th>ci_type</th>\n",
       "      <th>func_internal</th>\n",
       "      <th>func_tot</th>\n",
       "      <th>imp_dir</th>\n",
       "      <th>geometry</th>\n",
       "      <th>actual_supply_celltower_people</th>\n",
       "      <th>actual_supply_education_people</th>\n",
       "      <th>actual_supply_health_people</th>\n",
       "      <th>actual_supply_power_line_people</th>\n",
       "      <th>actual_supply_road_people</th>\n",
       "      <th>counts</th>\n",
       "    </tr>\n",
       "  </thead>\n",
       "  <tbody>\n",
       "    <tr>\n",
       "      <th>2652</th>\n",
       "      <td>people</td>\n",
       "      <td>1</td>\n",
       "      <td>1</td>\n",
       "      <td>0.000000</td>\n",
       "      <td>POINT (40.42792 -10.47958)</td>\n",
       "      <td>0.0</td>\n",
       "      <td>0.0</td>\n",
       "      <td>0.0</td>\n",
       "      <td>0.0</td>\n",
       "      <td>0.0</td>\n",
       "      <td>10.042796</td>\n",
       "    </tr>\n",
       "    <tr>\n",
       "      <th>2653</th>\n",
       "      <td>people</td>\n",
       "      <td>1</td>\n",
       "      <td>1</td>\n",
       "      <td>0.000000</td>\n",
       "      <td>POINT (40.44458 -10.48792)</td>\n",
       "      <td>0.0</td>\n",
       "      <td>0.0</td>\n",
       "      <td>0.0</td>\n",
       "      <td>0.0</td>\n",
       "      <td>0.0</td>\n",
       "      <td>10.796112</td>\n",
       "    </tr>\n",
       "    <tr>\n",
       "      <th>2654</th>\n",
       "      <td>people</td>\n",
       "      <td>1</td>\n",
       "      <td>1</td>\n",
       "      <td>0.000000</td>\n",
       "      <td>POINT (40.43625 -10.49625)</td>\n",
       "      <td>0.0</td>\n",
       "      <td>0.0</td>\n",
       "      <td>0.0</td>\n",
       "      <td>0.0</td>\n",
       "      <td>0.0</td>\n",
       "      <td>11.600738</td>\n",
       "    </tr>\n",
       "    <tr>\n",
       "      <th>2655</th>\n",
       "      <td>people</td>\n",
       "      <td>1</td>\n",
       "      <td>1</td>\n",
       "      <td>0.000000</td>\n",
       "      <td>POINT (40.44458 -10.49625)</td>\n",
       "      <td>0.0</td>\n",
       "      <td>0.0</td>\n",
       "      <td>0.0</td>\n",
       "      <td>0.0</td>\n",
       "      <td>0.0</td>\n",
       "      <td>11.042390</td>\n",
       "    </tr>\n",
       "    <tr>\n",
       "      <th>2656</th>\n",
       "      <td>people</td>\n",
       "      <td>1</td>\n",
       "      <td>1</td>\n",
       "      <td>0.000000</td>\n",
       "      <td>POINT (40.43625 -10.50458)</td>\n",
       "      <td>0.0</td>\n",
       "      <td>0.0</td>\n",
       "      <td>0.0</td>\n",
       "      <td>0.0</td>\n",
       "      <td>0.0</td>\n",
       "      <td>12.766479</td>\n",
       "    </tr>\n",
       "    <tr>\n",
       "      <th>...</th>\n",
       "      <td>...</td>\n",
       "      <td>...</td>\n",
       "      <td>...</td>\n",
       "      <td>...</td>\n",
       "      <td>...</td>\n",
       "      <td>...</td>\n",
       "      <td>...</td>\n",
       "      <td>...</td>\n",
       "      <td>...</td>\n",
       "      <td>...</td>\n",
       "      <td>...</td>\n",
       "    </tr>\n",
       "    <tr>\n",
       "      <th>1074867</th>\n",
       "      <td>road</td>\n",
       "      <td>1</td>\n",
       "      <td>1</td>\n",
       "      <td>0.001686</td>\n",
       "      <td>LINESTRING (40.49852 -12.96201, 40.49915 -12.9...</td>\n",
       "      <td>NaN</td>\n",
       "      <td>NaN</td>\n",
       "      <td>NaN</td>\n",
       "      <td>NaN</td>\n",
       "      <td>NaN</td>\n",
       "      <td>NaN</td>\n",
       "    </tr>\n",
       "    <tr>\n",
       "      <th>1074868</th>\n",
       "      <td>road</td>\n",
       "      <td>1</td>\n",
       "      <td>1</td>\n",
       "      <td>0.010116</td>\n",
       "      <td>LINESTRING (39.75174 -15.74318, 39.70494 -15.7...</td>\n",
       "      <td>NaN</td>\n",
       "      <td>NaN</td>\n",
       "      <td>NaN</td>\n",
       "      <td>NaN</td>\n",
       "      <td>NaN</td>\n",
       "      <td>NaN</td>\n",
       "    </tr>\n",
       "    <tr>\n",
       "      <th>1074869</th>\n",
       "      <td>road</td>\n",
       "      <td>1</td>\n",
       "      <td>1</td>\n",
       "      <td>0.001686</td>\n",
       "      <td>LINESTRING (32.62596 -25.86313, 32.62563 -25.8...</td>\n",
       "      <td>NaN</td>\n",
       "      <td>NaN</td>\n",
       "      <td>NaN</td>\n",
       "      <td>NaN</td>\n",
       "      <td>NaN</td>\n",
       "      <td>NaN</td>\n",
       "    </tr>\n",
       "    <tr>\n",
       "      <th>1074870</th>\n",
       "      <td>road</td>\n",
       "      <td>1</td>\n",
       "      <td>1</td>\n",
       "      <td>0.002529</td>\n",
       "      <td>LINESTRING (34.25325 -24.91953, 34.24820 -24.9...</td>\n",
       "      <td>NaN</td>\n",
       "      <td>NaN</td>\n",
       "      <td>NaN</td>\n",
       "      <td>NaN</td>\n",
       "      <td>NaN</td>\n",
       "      <td>NaN</td>\n",
       "    </tr>\n",
       "    <tr>\n",
       "      <th>1074871</th>\n",
       "      <td>road</td>\n",
       "      <td>1</td>\n",
       "      <td>1</td>\n",
       "      <td>0.001686</td>\n",
       "      <td>LINESTRING (32.56778 -25.88874, 32.56769 -25.8...</td>\n",
       "      <td>NaN</td>\n",
       "      <td>NaN</td>\n",
       "      <td>NaN</td>\n",
       "      <td>NaN</td>\n",
       "      <td>NaN</td>\n",
       "      <td>NaN</td>\n",
       "    </tr>\n",
       "  </tbody>\n",
       "</table>\n",
       "<p>1556663 rows × 11 columns</p>\n",
       "</div>"
      ],
      "text/plain": [
       "        ci_type  func_internal  func_tot   imp_dir  \\\n",
       "2652     people              1         1  0.000000   \n",
       "2653     people              1         1  0.000000   \n",
       "2654     people              1         1  0.000000   \n",
       "2655     people              1         1  0.000000   \n",
       "2656     people              1         1  0.000000   \n",
       "...         ...            ...       ...       ...   \n",
       "1074867    road              1         1  0.001686   \n",
       "1074868    road              1         1  0.010116   \n",
       "1074869    road              1         1  0.001686   \n",
       "1074870    road              1         1  0.002529   \n",
       "1074871    road              1         1  0.001686   \n",
       "\n",
       "                                                  geometry  \\\n",
       "2652                            POINT (40.42792 -10.47958)   \n",
       "2653                            POINT (40.44458 -10.48792)   \n",
       "2654                            POINT (40.43625 -10.49625)   \n",
       "2655                            POINT (40.44458 -10.49625)   \n",
       "2656                            POINT (40.43625 -10.50458)   \n",
       "...                                                    ...   \n",
       "1074867  LINESTRING (40.49852 -12.96201, 40.49915 -12.9...   \n",
       "1074868  LINESTRING (39.75174 -15.74318, 39.70494 -15.7...   \n",
       "1074869  LINESTRING (32.62596 -25.86313, 32.62563 -25.8...   \n",
       "1074870  LINESTRING (34.25325 -24.91953, 34.24820 -24.9...   \n",
       "1074871  LINESTRING (32.56778 -25.88874, 32.56769 -25.8...   \n",
       "\n",
       "         actual_supply_celltower_people  actual_supply_education_people  \\\n",
       "2652                                0.0                             0.0   \n",
       "2653                                0.0                             0.0   \n",
       "2654                                0.0                             0.0   \n",
       "2655                                0.0                             0.0   \n",
       "2656                                0.0                             0.0   \n",
       "...                                 ...                             ...   \n",
       "1074867                             NaN                             NaN   \n",
       "1074868                             NaN                             NaN   \n",
       "1074869                             NaN                             NaN   \n",
       "1074870                             NaN                             NaN   \n",
       "1074871                             NaN                             NaN   \n",
       "\n",
       "         actual_supply_health_people  actual_supply_power_line_people  \\\n",
       "2652                             0.0                              0.0   \n",
       "2653                             0.0                              0.0   \n",
       "2654                             0.0                              0.0   \n",
       "2655                             0.0                              0.0   \n",
       "2656                             0.0                              0.0   \n",
       "...                              ...                              ...   \n",
       "1074867                          NaN                              NaN   \n",
       "1074868                          NaN                              NaN   \n",
       "1074869                          NaN                              NaN   \n",
       "1074870                          NaN                              NaN   \n",
       "1074871                          NaN                              NaN   \n",
       "\n",
       "         actual_supply_road_people     counts  \n",
       "2652                           0.0  10.042796  \n",
       "2653                           0.0  10.796112  \n",
       "2654                           0.0  11.600738  \n",
       "2655                           0.0  11.042390  \n",
       "2656                           0.0  12.766479  \n",
       "...                            ...        ...  \n",
       "1074867                        NaN        NaN  \n",
       "1074868                        NaN        NaN  \n",
       "1074869                        NaN        NaN  \n",
       "1074870                        NaN        NaN  \n",
       "1074871                        NaN        NaN  \n",
       "\n",
       "[1556663 rows x 11 columns]"
      ]
     },
     "execution_count": 46,
     "metadata": {},
     "output_type": "execute_result"
    }
   ],
   "source": [
    "df_res_tcfl"
   ]
  },
  {
   "cell_type": "code",
   "execution_count": 28,
   "id": "269835fa",
   "metadata": {},
   "outputs": [
    {
     "data": {
      "text/plain": [
       "241"
      ]
     },
     "execution_count": 28,
     "metadata": {},
     "output_type": "execute_result"
    }
   ],
   "source": [
    "(df_res_tcfl[df_res_tcfl.ci_type=='health'].imp_dir>0.1).sum()"
   ]
  },
  {
   "cell_type": "code",
   "execution_count": 37,
   "id": "54122e61",
   "metadata": {},
   "outputs": [
    {
     "data": {
      "text/plain": [
       "60633.99981949284"
      ]
     },
     "execution_count": 37,
     "metadata": {},
     "output_type": "execute_result"
    }
   ],
   "source": [
    "df_res_tcfl[df_res_tcfl.ci_type=='road'].imp_dir.sum()/1000"
   ]
  },
  {
   "cell_type": "code",
   "execution_count": 49,
   "id": "7f6d4326",
   "metadata": {},
   "outputs": [],
   "source": [
    "df_res_tcfl = df_res_tcfl.set_crs(epsg=4326)"
   ]
  },
  {
   "cell_type": "code",
   "execution_count": 50,
   "id": "114862bc",
   "metadata": {},
   "outputs": [],
   "source": [
    "import climada.util.coordinates as u_coords\n",
    "df_res_tcfl['length'] = u_coords.compute_geodesic_lengths(df_res_tcfl)"
   ]
  },
  {
   "cell_type": "code",
   "execution_count": 54,
   "id": "f486fa70",
   "metadata": {},
   "outputs": [
    {
     "data": {
      "text/plain": [
       "227105.8151549068"
      ]
     },
     "execution_count": 54,
     "metadata": {},
     "output_type": "execute_result"
    }
   ],
   "source": [
    "df_res_tcfl['length'].max()"
   ]
  },
  {
   "cell_type": "code",
   "execution_count": 38,
   "id": "3dbf4ec5",
   "metadata": {},
   "outputs": [
    {
     "data": {
      "text/plain": [
       "172.81"
      ]
     },
     "execution_count": 38,
     "metadata": {},
     "output_type": "execute_result"
    }
   ],
   "source": [
    "df_res_tcfl[df_res_tcfl.ci_type=='power_line'].imp_dir.sum()/1000"
   ]
  },
  {
   "cell_type": "code",
   "execution_count": null,
   "id": "6ce2845b",
   "metadata": {},
   "outputs": [],
   "source": []
  },
  {
   "cell_type": "code",
   "execution_count": 39,
   "id": "7bb2a5d6",
   "metadata": {},
   "outputs": [
    {
     "data": {
      "text/plain": [
       "0.0"
      ]
     },
     "execution_count": 39,
     "metadata": {},
     "output_type": "execute_result"
    }
   ],
   "source": [
    "df_res_tcfl[(df_res_tcfl.ci_type=='power_line')&df_res_tcfl.geometry.type=='Point'].imp_dir.sum()"
   ]
  },
  {
   "cell_type": "code",
   "execution_count": 51,
   "id": "df265452",
   "metadata": {},
   "outputs": [
    {
     "data": {
      "text/plain": [
       "<AxesSubplot: >"
      ]
     },
     "execution_count": 51,
     "metadata": {},
     "output_type": "execute_result"
    },
    {
     "data": {
      "image/png": "[encoded data removed]",
      "text/plain": [
       "<Figure size 432x288 with 1 Axes>"
      ]
     },
     "metadata": {
      "needs_background": "light"
     },
     "output_type": "display_data"
    }
   ],
   "source": [
    "df_res_tcfl[(df_res_tcfl.ci_type=='power_line')].plot('func_tot')"
   ]
  },
  {
   "cell_type": "code",
   "execution_count": 57,
   "id": "6639a619",
   "metadata": {},
   "outputs": [
    {
     "data": {
      "text/plain": [
       "2053815.1506564969"
      ]
     },
     "execution_count": 57,
     "metadata": {},
     "output_type": "execute_result"
    }
   ],
   "source": [
    "df_res_tcfl[(df_res_tcfl.ci_type=='power_line') & (df_res_tcfl.func_internal==0)]['length'].sum()"
   ]
  },
  {
   "cell_type": "code",
   "execution_count": 58,
   "id": "bca110f6",
   "metadata": {},
   "outputs": [
    {
     "data": {
      "text/plain": [
       "2053.815150656497"
      ]
     },
     "execution_count": 58,
     "metadata": {},
     "output_type": "execute_result"
    }
   ],
   "source": [
    "df_res_tcfl[(df_res_tcfl.ci_type=='power_line') & (df_res_tcfl.func_internal==0)]['length'].sum()/1000"
   ]
  },
  {
   "cell_type": "code",
   "execution_count": 71,
   "id": "e0c4b209",
   "metadata": {},
   "outputs": [
    {
     "data": {
      "text/plain": [
       "1254.209676513732"
      ]
     },
     "execution_count": 71,
     "metadata": {},
     "output_type": "execute_result"
    }
   ],
   "source": [
    "df_res_tcfl[(df_res_tcfl.ci_type=='power_line') & ((df_res_tcfl.imp_dir/df_res_tcfl['length'])>0.01)]['length'].sum()/1000"
   ]
  },
  {
   "cell_type": "code",
   "execution_count": 60,
   "id": "54522c5e",
   "metadata": {},
   "outputs": [
    {
     "data": {
      "text/plain": [
       "35276.22638514166"
      ]
     },
     "execution_count": 60,
     "metadata": {},
     "output_type": "execute_result"
    }
   ],
   "source": [
    "df_res_tcfl[(df_res_tcfl.ci_type=='road') & (df_res_tcfl.func_internal==0)]['length'].sum()/1000"
   ]
  },
  {
   "cell_type": "code",
   "execution_count": 72,
   "id": "1eb877d3",
   "metadata": {},
   "outputs": [
    {
     "data": {
      "text/plain": [
       "16906.947303698333"
      ]
     },
     "execution_count": 72,
     "metadata": {},
     "output_type": "execute_result"
    }
   ],
   "source": [
    "df_res_tcfl[(df_res_tcfl.ci_type=='road') & ((df_res_tcfl.imp_dir*0.5/df_res_tcfl['length'])>0.5)]['length'].sum()/1000"
   ]
  },
  {
   "cell_type": "code",
   "execution_count": null,
   "id": "4df8ca42",
   "metadata": {},
   "outputs": [],
   "source": []
  },
  {
   "cell_type": "code",
   "execution_count": 59,
   "id": "bc57c2b7",
   "metadata": {},
   "outputs": [
    {
     "data": {
      "text/plain": [
       "292"
      ]
     },
     "execution_count": 59,
     "metadata": {},
     "output_type": "execute_result"
    }
   ],
   "source": [
    "len(df_res_tcfl[(df_res_tcfl.ci_type=='education') & ((df_res_tcfl.imp_dir)])"
   ]
  },
  {
   "cell_type": "code",
   "execution_count": 17,
   "id": "fb80e6cf",
   "metadata": {},
   "outputs": [
    {
     "name": "stdout",
     "output_type": "stream",
     "text": [
      "9032\n",
      "9297\n"
     ]
    }
   ],
   "source": [
    "print(df_res_tc[df_res_tc.ci_type=='power_line'].func_tot.sum())\n",
    "print(len(df_res_tc[df_res_tc.ci_type=='power_line']))\n"
   ]
  },
  {
   "cell_type": "code",
   "execution_count": 38,
   "id": "37ba21b6",
   "metadata": {},
   "outputs": [
    {
     "data": {
      "text/plain": [
       "<AxesSubplot: >"
      ]
     },
     "execution_count": 38,
     "metadata": {},
     "output_type": "execute_result"
    },
    {
     "data": {
      "image/png": "[encoded data removed]",
      "text/plain": [
       "<Figure size 432x288 with 1 Axes>"
      ]
     },
     "metadata": {
      "needs_background": "light"
     },
     "output_type": "display_data"
    }
   ],
   "source": [
    "df_res_tc[(df_res_tc['ci_type']=='people')].plot('actual_supply_power_line_people')"
   ]
  },
  {
   "cell_type": "code",
   "execution_count": 37,
   "id": "e8713a98",
   "metadata": {},
   "outputs": [
    {
     "data": {
      "text/plain": [
       "10906495.952470837"
      ]
     },
     "execution_count": 37,
     "metadata": {},
     "output_type": "execute_result"
    }
   ],
   "source": [
    "df_res_tc[(df_res_tc['ci_type']=='people')].counts.sum()*0.37"
   ]
  },
  {
   "cell_type": "code",
   "execution_count": 106,
   "id": "edbf35c3",
   "metadata": {},
   "outputs": [],
   "source": [
    "if haz_type=='TCFL':\n",
    "    # combine direct flood & wind impacts from previous runs\n",
    "    df_res_tc = gpd.read_feather(path_save+f'cascade_results_2019063S18038')\n",
    "    df_res_fl = gpd.read_feather(path_save+f'cascade_results_Flood_Idai')\n",
    "    df_res = combine_result_dfs(df_res_tc, df_res_fl)"
   ]
  },
  {
   "cell_type": "code",
   "execution_count": 25,
   "id": "1e55d2ca",
   "metadata": {},
   "outputs": [
    {
     "data": {
      "text/plain": [
       "ci_type\n",
       "celltower      0.526399\n",
       "education      0.395528\n",
       "health         0.708747\n",
       "people         1.000000\n",
       "power_line     0.971496\n",
       "power_plant    1.000000\n",
       "road           0.987089\n",
       "Name: func_tot, dtype: float64"
      ]
     },
     "execution_count": 25,
     "metadata": {},
     "output_type": "execute_result"
    }
   ],
   "source": [
    "df_res_tc.groupby('ci_type').func_tot.mean()"
   ]
  },
  {
   "cell_type": "code",
   "execution_count": 109,
   "id": "7ecb0cfc",
   "metadata": {},
   "outputs": [
    {
     "data": {
      "text/plain": [
       "ci_type\n",
       "celltower      0.972419\n",
       "education      0.936006\n",
       "health         0.981966\n",
       "people         1.000000\n",
       "power_line     0.976874\n",
       "power_plant    1.000000\n",
       "road           0.987089\n",
       "Name: func_internal, dtype: float64"
      ]
     },
     "execution_count": 109,
     "metadata": {},
     "output_type": "execute_result"
    }
   ],
   "source": [
    "df_res_tc.groupby('ci_type').func_internal.mean()"
   ]
  },
  {
   "cell_type": "code",
   "execution_count": 65,
   "id": "7c5cc4eb",
   "metadata": {},
   "outputs": [
    {
     "data": {
      "text/plain": [
       "ci_type\n",
       "celltower      0.994484\n",
       "education      0.979954\n",
       "health         0.991885\n",
       "people         1.000000\n",
       "power_line     0.996235\n",
       "power_plant    1.000000\n",
       "road           0.987063\n",
       "Name: func_internal, dtype: float64"
      ]
     },
     "execution_count": 65,
     "metadata": {},
     "output_type": "execute_result"
    }
   ],
   "source": [
    "df_res_fl.groupby('ci_type').func_internal.mean()"
   ]
  },
  {
   "cell_type": "code",
   "execution_count": null,
   "id": "dc5e3873",
   "metadata": {},
   "outputs": [],
   "source": []
  }
 ],
 "metadata": {
  "kernelspec": {
   "display_name": "Python3.9 (climada_venv)",
   "language": "python",
   "name": "climada_venv"
  },
  "language_info": {
   "codemirror_mode": {
    "name": "ipython",
    "version": 3
   },
   "file_extension": ".py",
   "mimetype": "text/x-python",
   "name": "python",
   "nbconvert_exporter": "python",
   "pygments_lexer": "ipython3",
   "version": "3.9.9"
  }
 },
 "nbformat": 4,
 "nbformat_minor": 5
}
