{
 "cells": [
  {
   "cell_type": "code",
   "execution_count": 2,
   "id": "08f0fc48",
   "metadata": {},
   "outputs": [],
   "source": [
    "import geopandas as gpd\n",
    "import pandas as pd\n",
    "from pathlib import Path\n",
    "import shapely\n",
    "import os\n",
    "import pickle\n",
    "import numpy as np\n",
    "\n",
    "# on climada_petals branch feature/networks until merged into develop!!\n",
    "from climada_petals.engine.networks.nw_preps import NetworkPreprocess, PowerlinePreprocess, RoadPreprocess\n",
    "from climada_petals.engine.networks.nw_base import Network\n",
    "from climada_petals.engine.networks.nw_calcs import Graph\n",
    "from climada_petals.engine.networks import nw_utils as nwu\n",
    "from climada_petals.entity.exposures.openstreetmap import osm_dataloader as osm\n",
    "from climada_petals.util.constants import DICT_GEOFABRIK\n",
    "\n",
    "from climada.util import coordinates as u_coords\n",
    "from climada.hazard.base import Hazard\n",
    "\n",
    "# general paths & constants\n",
    "PATH_DATA = '/cluster/work/climate/evelynm/nw_inputs/'\n",
    "PATH_DATA_OSM = PATH_DATA +'osm_countries/'\n",
    "PATH_DATA_HVMV = PATH_DATA +'power/hvmv_global.shp'\n",
    "PATH_DATA_PP = PATH_DATA +'power/global_power_plant_database.csv'\n",
    "PATH_DATA_CT = PATH_DATA +'opencellid_global_1km_int.tif'\n",
    "PATH_DATA_POP = PATH_DATA + 'worldpop/'\n",
    "PATH_DEPS = PATH_DATA + 'dependencies/dependencies_default.csv'\n",
    "PATH_SAVE = '/cluster/work/climate/evelynm/nw_outputs/'\n",
    "PATH_EL_CONS_GLOBAL = PATH_DATA +'power/final_consumption_iea_global.csv'\n",
    "PATH_ET = PATH_DATA +'power/electrification_targets.tif'\n",
    "PATH_FRICTION = PATH_DATA + 'friction/202001_Global_Walking_Only_Friction_Surface_2019.tif'\n",
    "PATH_TREES = PATH_DATA + 'Crowther_Nature_Files/...'"
   ]
  },
  {
   "cell_type": "code",
   "execution_count": 24,
   "id": "ff3e78c5",
   "metadata": {},
   "outputs": [],
   "source": [
    "import sys\n",
    "cntry = 'Mozambique'\n",
    "\n",
    "# =============================================================================\n",
    "# Load Infra Data\n",
    "# =============================================================================\n",
    "\n",
    "iso3 = u_coords.country_to_iso(cntry)\n",
    "\n",
    "try:\n",
    "    path_osm_cntry = PATH_DATA_OSM+DICT_GEOFABRIK[iso3][-1]+'-latest.osm.pbf'\n",
    "except KeyError:\n",
    "    path_osm_cntry = PATH_DATA_OSM+f'{cntry}'+'-latest.osm.pbf'\n",
    "path_worldpop_cntry = PATH_DATA_POP + f'{iso3.lower()}_ppp_2020_1km_Aggregated_UNadj.tif'\n",
    "path_el_consump_cntry = PATH_DATA + f'power/Electricity consumption per capita - {cntry}.csv'\n",
    "path_elgen_cntry = PATH_DATA + f'power/Electricity generation by source - {cntry}.csv'\n",
    "path_el_imp_exp_cntry = PATH_DATA + f'power/Electricity imports vs. exports - {cntry}.csv'\n",
    "path_save_cntry = PATH_SAVE + f'{iso3}/'\n",
    "if not os.path.isdir(path_save_cntry):\n",
    "    os.mkdir(path_save_cntry)"
   ]
  },
  {
   "cell_type": "code",
   "execution_count": 25,
   "id": "77a518b2",
   "metadata": {},
   "outputs": [],
   "source": [
    "# COUNTRY SHAPE    \n",
    "__, cntry_shape = u_coords.get_admin1_info([cntry])\n",
    "cntry_shape = shapely.ops.unary_union([shp for shp in cntry_shape[iso3]])"
   ]
  },
  {
   "cell_type": "code",
   "execution_count": 26,
   "id": "2a6dc94d",
   "metadata": {},
   "outputs": [],
   "source": [
    "# OSM Query Object\n",
    "try:\n",
    "    osm.OSMRaw().get_data_geofabrik(iso3, file_format='pbf', save_path=PATH_DATA_OSM)\n",
    "except KeyError:\n",
    "    osm.OSMRaw().extract_from_shapes([cntry_shape], path_poly=PATH_DATA_OSM+f'{iso3}.poly', \n",
    "                                     path_extract=path_osm_cntry, path_parentfile=PATH_DATA_OSM+'planet-latest.osm.pbf',\n",
    "                                     overwrite=False)\n",
    "CntryFileQuery = osm.OSMFileQuery(path_osm_cntry)"
   ]
  },
  {
   "cell_type": "code",
   "execution_count": 27,
   "id": "d498c3ff",
   "metadata": {},
   "outputs": [
    {
     "name": "stderr",
     "output_type": "stream",
     "text": [
      "extract points: 100%|██████████| 28002/28002 [00:07<00:00, 3651.60it/s]\n",
      "extract multipolygons: 100%|██████████| 11/11 [01:05<00:00,  5.95s/it]\n",
      "extract lines: 100%|██████████| 305/305 [00:11<00:00, 25.87it/s]\n"
     ]
    },
    {
     "data": {
      "text/plain": [
       "\"\\n    if len(gdf_pp[gdf_pp.power=='plant'])>1:\\n        gdf_pp = gdf_pp[gdf_pp.power=='plant']\\n    else:\\n        # last 'resort': take generators from OSM\\n        gdf_pp = gdf_pp[gdf_pp.power=='generator']       \\n    gdf_pp['geometry'] = gdf_pp.geometry.apply(lambda geom: geom.centroid)\\n    gdf_pp = gdf_pp[['name', 'power', 'geometry']]   \\n\""
      ]
     },
     "execution_count": 27,
     "metadata": {},
     "output_type": "execute_result"
    }
   ],
   "source": [
    "# POWER LINES\n",
    "gdf_powerlines = gpd.read_file(PATH_DATA_HVMV, mask=cntry_shape)\n",
    "gdf_powerlines['osm_id'] = 'n/a'\n",
    "gdf_powerlines['ci_type'] = 'n/a' #random, preprocessing needs another column\n",
    "gdf_powerlines = gdf_powerlines[['osm_id', 'geometry', 'ci_type']]\n",
    "\n",
    "# POWER PLANTS\n",
    "# try WRI power plant database, then OSM\n",
    "gdf_pp = nwu.PowerFunctionalData().load_pplants_wri(PATH_DATA_PP, iso3)    "
   ]
  },
  {
   "cell_type": "code",
   "execution_count": 36,
   "id": "9b7f5e88",
   "metadata": {},
   "outputs": [
    {
     "name": "stderr",
     "output_type": "stream",
     "text": [
      "extract points: 100%|██████████| 28002/28002 [00:07<00:00, 3704.63it/s]\n",
      "extract multipolygons: 100%|██████████| 11/11 [01:05<00:00,  5.95s/it]\n",
      "extract lines: 100%|██████████| 305/305 [00:11<00:00, 25.73it/s]\n"
     ]
    }
   ],
   "source": [
    "# SUBSTATIONS\n",
    "gdf_power = CntryFileQuery.retrieve_cis('power')\n",
    "gdf_power = gdf_power[[power_type in ['generator','plant','substation','switch', 'transformer'] \n",
    "               for power_type in gdf_power.power]]\n",
    "gdf_power['geometry'] = gdf_power.apply(lambda row: row.geometry.convex_hull, axis=1)\n",
    "gdf_power=gdf_power.reset_index(drop=True)"
   ]
  },
  {
   "cell_type": "code",
   "execution_count": 55,
   "id": "4520e8e3",
   "metadata": {},
   "outputs": [
    {
     "data": {
      "text/html": [
       "<div>\n",
       "<style scoped>\n",
       "    .dataframe tbody tr th:only-of-type {\n",
       "        vertical-align: middle;\n",
       "    }\n",
       "\n",
       "    .dataframe tbody tr th {\n",
       "        vertical-align: top;\n",
       "    }\n",
       "\n",
       "    .dataframe thead th {\n",
       "        text-align: right;\n",
       "    }\n",
       "</style>\n",
       "<table border=\"1\" class=\"dataframe\">\n",
       "  <thead>\n",
       "    <tr style=\"text-align: right;\">\n",
       "      <th></th>\n",
       "      <th>osm_id</th>\n",
       "      <th>voltage</th>\n",
       "      <th>utility</th>\n",
       "      <th>name</th>\n",
       "      <th>geometry</th>\n",
       "    </tr>\n",
       "    <tr>\n",
       "      <th>power</th>\n",
       "      <th></th>\n",
       "      <th></th>\n",
       "      <th></th>\n",
       "      <th></th>\n",
       "      <th></th>\n",
       "    </tr>\n",
       "  </thead>\n",
       "  <tbody>\n",
       "    <tr>\n",
       "      <th>generator</th>\n",
       "      <td>54</td>\n",
       "      <td>0</td>\n",
       "      <td>0</td>\n",
       "      <td>1</td>\n",
       "      <td>54</td>\n",
       "    </tr>\n",
       "    <tr>\n",
       "      <th>plant</th>\n",
       "      <td>1</td>\n",
       "      <td>0</td>\n",
       "      <td>0</td>\n",
       "      <td>10</td>\n",
       "      <td>11</td>\n",
       "    </tr>\n",
       "    <tr>\n",
       "      <th>substation</th>\n",
       "      <td>75</td>\n",
       "      <td>48</td>\n",
       "      <td>0</td>\n",
       "      <td>20</td>\n",
       "      <td>75</td>\n",
       "    </tr>\n",
       "    <tr>\n",
       "      <th>switch</th>\n",
       "      <td>2</td>\n",
       "      <td>0</td>\n",
       "      <td>0</td>\n",
       "      <td>0</td>\n",
       "      <td>2</td>\n",
       "    </tr>\n",
       "    <tr>\n",
       "      <th>transformer</th>\n",
       "      <td>68</td>\n",
       "      <td>0</td>\n",
       "      <td>0</td>\n",
       "      <td>2</td>\n",
       "      <td>68</td>\n",
       "    </tr>\n",
       "  </tbody>\n",
       "</table>\n",
       "</div>"
      ],
      "text/plain": [
       "             osm_id  voltage  utility  name  geometry\n",
       "power                                                \n",
       "generator        54        0        0     1        54\n",
       "plant             1        0        0    10        11\n",
       "substation       75       48        0    20        75\n",
       "switch            2        0        0     0         2\n",
       "transformer      68        0        0     2        68"
      ]
     },
     "execution_count": 55,
     "metadata": {},
     "output_type": "execute_result"
    }
   ],
   "source": [
    "gdf_power.groupby('power').count()"
   ]
  },
  {
   "cell_type": "code",
   "execution_count": null,
   "id": "5b79dd26",
   "metadata": {},
   "outputs": [],
   "source": [
    "gdf_power.groupby('power').count()"
   ]
  },
  {
   "cell_type": "code",
   "execution_count": null,
   "id": "4f432f4f",
   "metadata": {},
   "outputs": [],
   "source": [
    "# PEOPLE\n",
    "nwu.get_worldpop_data(iso3, PATH_DATA_POP)\n",
    "gdf_people = nwu.load_resampled_raster(path_worldpop_cntry, 1)\n",
    "pop_thresh = nwu.get_pop_cutoff(gdf_people, 0.1)\n",
    "gdf_people = gdf_people[gdf_people.counts>=pop_thresh].reset_index(drop=True)"
   ]
  },
  {
   "cell_type": "code",
   "execution_count": null,
   "id": "16484c58",
   "metadata": {},
   "outputs": [],
   "source": [
    "# assign electricity consumption & production\n",
    "gdf_people['electrified'] = nwu.PowerFunctionalData().assign_el_targets(\n",
    "    gdf_people, iso3, cntry_shape, PATH_ET)\n",
    "gdf_people, gdf_pp = nwu.PowerFunctionalData().assign_el_prod_consump(\n",
    "    gdf_people, gdf_pp, iso3, PATH_EL_CONS_GLOBAL)"
   ]
  },
  {
   "cell_type": "code",
   "execution_count": 6,
   "id": "2b0ba443",
   "metadata": {},
   "outputs": [],
   "source": [
    "# HEALTH FACILITIES\n",
    "# from osm\n",
    "\"\"\" \n",
    "gdf_health = CntryFileQuery.retrieve_cis('healthcare') \n",
    "gdf_health['geometry'] = gdf_health.geometry.apply(lambda geom: geom.centroid)\n",
    "gdf_health = gdf_health[['name', 'geometry']]\n",
    "gdf_health = gdf_health[gdf_health.geometry.within(cntry_shape)]\n",
    "\"\"\"\n",
    "\n",
    "# pre-processed from Zélie:\n",
    "path_health = '/cluster/work/climate/evelynm/nw_outputs/MOZ/locations_preprocessed.csv'\n",
    "gdf_health = pd.read_csv(path_health)\n",
    "gdf_health = gpd.GeoDataFrame(gdf_health, crs='EPSG:4326')\n",
    "gdf_health['geometry'] = gdf_health.apply(lambda row: shapely.wkt.loads(row.geometry), axis=1)\n",
    "gdf_health = gdf_health.iloc[:, :-5]"
   ]
  },
  {
   "cell_type": "code",
   "execution_count": 20,
   "id": "06096d51",
   "metadata": {},
   "outputs": [
    {
     "data": {
      "text/plain": [
       "<AxesSubplot:>"
      ]
     },
     "execution_count": 20,
     "metadata": {},
     "output_type": "execute_result"
    },
    {
     "data": {
      "image/png": "[encoded data removed]",
      "text/plain": [
       "<Figure size 432x288 with 1 Axes>"
      ]
     },
     "metadata": {
      "needs_background": "light"
     },
     "output_type": "display_data"
    }
   ],
   "source": [
    "gdf_health.plot('Level')"
   ]
  },
  {
   "cell_type": "code",
   "execution_count": null,
   "id": "d2cb0208",
   "metadata": {},
   "outputs": [],
   "source": [
    "# EDUC. FACILITIES\n",
    "# from osm\n",
    "gdf_educ = CntryFileQuery.retrieve_cis('education')\n",
    "gdf_educ['geometry'] = gdf_educ.geometry.apply(lambda geom: geom.centroid)\n",
    "gdf_educ = gdf_educ[['name', 'geometry']]\n",
    "gdf_educ = gdf_educ[gdf_educ.geometry.within(cntry_shape)]\n",
    "\n",
    "# TELECOM\n",
    "# cells from rasterized opencellID (via WB)\n",
    "path_ct_cntry = path_save_cntry+'celltowers.tif'\n",
    "if not Path(path_ct_cntry).is_file():\n",
    "    if cntry_shape.type=='Polygon':\n",
    "        geo_mask = [cntry_shape]\n",
    "    else:\n",
    "        geo_mask = [mp for mp in cntry_shape]\n",
    "    meta_ct, arr_ct = u_coords.read_raster(PATH_DATA_CT, src_crs={'epsg':'4326'},\n",
    "                                           geometry=geo_mask)\n",
    "    u_coords.write_raster(path_ct_cntry, arr_ct, meta_ct)\n",
    "gdf_cells = nwu.load_resampled_raster(path_ct_cntry, 1/5)\n",
    "\n",
    "# ROADS\n",
    "# from osm; by default, take all types of roads\n",
    "gdf_roads = CntryFileQuery.retrieve_cis('road') # for large countries: take main_road only and uncomment later ones\n",
    "frac_unclass = gdf_roads.groupby('highway').size()['unclassified']/len(gdf_roads)\n",
    "\n",
    "if frac_unclass < 0.2:\n",
    "    # if unclassified road fraction is quite small, take only main roads\n",
    "    gdf_roads = gdf_roads[(gdf_roads.highway != 'residential') & \n",
    "                          (gdf_roads.highway != 'unclassified')]\n",
    "\n",
    "gdf_roads = gdf_roads[gdf_roads.geometry.type=='LineString']\n",
    "gdf_roads = gdf_roads[['osm_id','highway', 'geometry']]\n",
    "gdf_roads = gdf_roads[gdf_roads.within(cntry_shape)]\n"
   ]
  },
  {
   "cell_type": "code",
   "execution_count": null,
   "id": "d7db0a84",
   "metadata": {},
   "outputs": [],
   "source": [
    "# =============================================================================\n",
    "# # Graphs\n",
    "# =============================================================================\n",
    "\n",
    "# POWER LINES\n",
    "gdf_power_edges, gdf_power_nodes = PowerlinePreprocess().preprocess(\n",
    "    gdf_edges=gdf_powerlines)\n",
    "power_network = Network(gdf_power_edges, gdf_power_nodes)\n",
    "power_graph = Graph(power_network, directed=False)\n",
    "\n",
    "iter_count = 0\n",
    "while (len(power_graph.graph.clusters())>1) and (iter_count<8):\n",
    "    iter_count+=1\n",
    "    power_graph.link_clusters(dist_thresh=200000)\n",
    "    \n",
    "power_network = Network().from_graphs([power_graph.graph.as_directed()])\n",
    "# power_graph.graph.clusters().summary(): \n"
   ]
  },
  {
   "cell_type": "code",
   "execution_count": null,
   "id": "75aec6f8",
   "metadata": {},
   "outputs": [],
   "source": [
    "# PEOPLE\n",
    "__, gdf_people_nodes = NetworkPreprocess('people').preprocess(\n",
    "    gdf_nodes=gdf_people)\n",
    "people_network = Network(nodes=gdf_people_nodes)\n",
    "\n",
    "# POWER PLANTS\n",
    "__, gdf_pp_nodes = NetworkPreprocess('power_plant').preprocess(\n",
    "    gdf_nodes=gdf_pp)\n",
    "pplant_network = Network(nodes=gpd.GeoDataFrame(gdf_pp_nodes))\n",
    "\n",
    "# HEALTHCARE\n",
    "__, gdf_health_nodes = NetworkPreprocess('health').preprocess(\n",
    "    gdf_nodes=gdf_health)\n",
    "health_network = Network(nodes=gdf_health_nodes)\n",
    "\n",
    "# EDUC\n",
    "__, gdf_educ_nodes = NetworkPreprocess('education').preprocess(\n",
    "    gdf_nodes=gdf_educ)\n",
    "educ_network = Network(nodes=gdf_educ_nodes)"
   ]
  },
  {
   "cell_type": "code",
   "execution_count": null,
   "id": "bc8bb95a",
   "metadata": {},
   "outputs": [
    {
     "name": "stderr",
     "output_type": "stream",
     "text": [
      "endpoints: 100%|██████████| 954726/954726 [00:26<00:00, 35614.04it/s]\n"
     ]
    }
   ],
   "source": [
    "# ROAD\n",
    "gdf_road_edges, gdf_road_nodes = RoadPreprocess().preprocess(\n",
    "    gdf_edges=gdf_roads)\n",
    "road_network = Network(gdf_road_edges, gdf_road_nodes)"
   ]
  },
  {
   "cell_type": "code",
   "execution_count": null,
   "id": "2d31b88b",
   "metadata": {},
   "outputs": [],
   "source": [
    "# easy workaround for doubling edges\n",
    "road_graph = Graph(road_network, directed=False)\n",
    "iter_count = 0\n",
    "while (len(road_graph.graph.clusters())>1) and (iter_count<5):\n",
    "    iter_count+=1\n",
    "    print(iter_count)\n",
    "    road_graph.link_clusters(dist_thresh=30000)\n",
    "\n",
    "road_network = Network().from_graphs([road_graph.graph.as_directed()])\n",
    "#road_graph.graph.clusters().summary()\n",
    "# save in between, because takes very long to create in case memory overflow\n",
    "# road_network.nodes.to_feather(path_save_cntry+'road_nw_nodes')\n",
    "# road_network.edges.to_feather(path_save_cntry+'road_nw_edges')"
   ]
  },
  {
   "cell_type": "code",
   "execution_count": null,
   "id": "406241c1",
   "metadata": {},
   "outputs": [],
   "source": [
    "# TELECOM\n",
    "__, gdf_tele_nodes = NetworkPreprocess('celltower').preprocess(gdf_nodes=gdf_cells)\n",
    "tele_network = Network(nodes=gdf_tele_nodes)\n",
    "\n",
    "# MULTINET\n",
    "cis_network = Network.from_nws([pplant_network, power_network,\n",
    "                                people_network, health_network, educ_network,\n",
    "                                road_network, tele_network])\n",
    "cis_network.initialize_funcstates()"
   ]
  },
  {
   "cell_type": "code",
   "execution_count": null,
   "id": "37a19205",
   "metadata": {},
   "outputs": [],
   "source": [
    "# =============================================================================\n",
    "# Interdependencies\n",
    "# =============================================================================\n",
    "\n",
    "# load default dependency table\n",
    "df_dependencies = pd.read_csv(PATH_DEPS, sep=',', header=0)\n",
    "df_dependencies.loc[np.isnan(df_dependencies.thresh_dist), 'thresh_dist'] = np.inf\n"
   ]
  },
  {
   "cell_type": "code",
   "execution_count": null,
   "id": "0ff3a0d9",
   "metadata": {},
   "outputs": [],
   "source": [
    "# refine dependency table\n",
    "cond = ('electrified', True)\n",
    "df_dependencies['conditions'] = None\n",
    "df_dependencies['conditions'] = df_dependencies['conditions'].astype(object)\n",
    "idx = np.where((df_dependencies.source=='power_line') & (\n",
    "    df_dependencies.target=='people'))[0][0]\n",
    "df_dependencies.at[idx, 'conditions'] = cond\n",
    "df_dependencies = nwu.set_distance_threshs(df_dependencies, iso3, hrs_max=1)\n",
    "if frac_unclass >= 0.2:\n",
    "    # if all roads are taken, set a shorter dist thresh, else leave original main-road thresh\n",
    "    df_dependencies.loc[(df_dependencies.source=='road') &\n",
    "                        (df_dependencies.target=='people'), 'thresh_dist'] = 2000"
   ]
  },
  {
   "cell_type": "code",
   "execution_count": null,
   "id": "65627dfc",
   "metadata": {},
   "outputs": [],
   "source": [
    "cis_graph = Graph(cis_network, directed=True)"
   ]
  },
  {
   "cell_type": "code",
   "execution_count": null,
   "id": "6413a43a",
   "metadata": {},
   "outputs": [],
   "source": [
    "# create \"missing physical structures\" - needed for real world flows\n",
    "cis_graph.link_vertices_closest_k(\n",
    "    'power_line', 'power_plant', link_name='power_line', dist_thresh=np.inf, bidir=True, k=1)"
   ]
  },
  {
   "cell_type": "code",
   "execution_count": null,
   "id": "645e8004",
   "metadata": {},
   "outputs": [],
   "source": [
    "cis_graph.link_vertices_closest_k(\n",
    "    'road', 'people',  link_name='road', \n",
    "    dist_thresh=df_dependencies.loc[(df_dependencies.source=='road') & \n",
    "                                    (df_dependencies.target=='people'),\n",
    "                                    'thresh_dist'].values[0], bidir=True, k=1)"
   ]
  },
  {
   "cell_type": "code",
   "execution_count": null,
   "id": "4d002b85",
   "metadata": {},
   "outputs": [],
   "source": [
    "cis_graph.link_vertices_closest_k(\n",
    "    'road', 'health',  link_name='road', dist_thresh=np.inf, bidir=True, k=1)\n",
    "cis_graph.link_vertices_closest_k(\n",
    "    'road', 'education', link_name='road', dist_thresh=np.inf, bidir=True, k=1)"
   ]
  },
  {
   "cell_type": "code",
   "execution_count": null,
   "id": "3d2de97a",
   "metadata": {},
   "outputs": [],
   "source": [
    "# place dependencies\n",
    "friction_surf = Hazard('FRIC').from_raster(\n",
    "    PATH_FRICTION, geometry=[cntry_shape.convex_hull.buffer(0.1)])\n",
    "\n",
    "for __, row in df_dependencies.iterrows():\n",
    "    cis_graph.place_dependency(row.source, row.target, \n",
    "                               single_link=row.single_link,\n",
    "                               access_cnstr=row.access_cnstr, \n",
    "                               dist_thresh=row.thresh_dist,\n",
    "                               preselect=False,\n",
    "                               friction_surf=friction_surf,\n",
    "                               dur_thresh=60,\n",
    "                               cond=row.conditions)\n",
    "cis_network = cis_graph.return_network()"
   ]
  },
  {
   "cell_type": "code",
   "execution_count": null,
   "id": "8e2271ab",
   "metadata": {},
   "outputs": [],
   "source": [
    "# =============================================================================\n",
    "# Base State\n",
    "# =============================================================================\n",
    "\n",
    "cis_network.initialize_funcstates()\n",
    "for __, row in df_dependencies.iterrows():\n",
    "    cis_network.initialize_capacity(row.source, row.target)\n",
    "for __, row in df_dependencies[\n",
    "        df_dependencies['type_I']=='enduser'].iterrows():\n",
    "    cis_network.initialize_supply(row.source)"
   ]
  },
  {
   "cell_type": "code",
   "execution_count": null,
   "id": "f6e33c7d",
   "metadata": {},
   "outputs": [],
   "source": [
    "nwu.get_graphstats(cis_graph)"
   ]
  },
  {
   "cell_type": "code",
   "execution_count": null,
   "id": "1980922d",
   "metadata": {},
   "outputs": [],
   "source": [
    "cis_graph = Graph(cis_network, directed=True)\n",
    "cis_graph.cascade(df_dependencies, p_source='power_plant', p_sink='power_line', \n",
    "                  source_var='el_generation', demand_var='el_consumption',\n",
    "                  preselect=False, initial=True, friction_surf=friction_surf, \n",
    "                  dur_thresh=60) # p_source = 'power_line' for countries wehre no pplants found\n",
    "cis_network = cis_graph.return_network() #"
   ]
  },
  {
   "cell_type": "code",
   "execution_count": null,
   "id": "e14011f6",
   "metadata": {},
   "outputs": [],
   "source": [
    "nwu.get_graphstats(cis_graph)"
   ]
  },
  {
   "cell_type": "code",
   "execution_count": null,
   "id": "9226e867",
   "metadata": {},
   "outputs": [],
   "source": [
    "cis_network.nodes.to_feather(path_save_cntry+'cis_nw_nodes')\n",
    "cis_network.edges.to_feather(path_save_cntry+'cis_nw_edges')"
   ]
  },
  {
   "cell_type": "code",
   "execution_count": null,
   "id": "0e044ef4",
   "metadata": {},
   "outputs": [],
   "source": [
    "# save country-specific dependency-table.\n",
    "df_dependencies.to_csv(path_save_cntry +f'dependency_table_{iso3}.csv')"
   ]
  },
  {
   "cell_type": "code",
   "execution_count": null,
   "id": "485e06e8",
   "metadata": {},
   "outputs": [],
   "source": [
    "base_stats = nwu.number_noservices(cis_graph,\n",
    "                         services=['power', 'healthcare', 'education', \n",
    "                                   'telecom', 'mobility'])\n",
    "\n",
    "with open(path_save_cntry +f'base_stats_{iso3}.pkl', 'wb') as f:\n",
    "    pickle.dump(base_stats, f) "
   ]
  },
  {
   "cell_type": "code",
   "execution_count": null,
   "id": "acd7060a",
   "metadata": {},
   "outputs": [],
   "source": [
    "base_stats"
   ]
  },
  {
   "cell_type": "code",
   "execution_count": 47,
   "id": "e882493f",
   "metadata": {},
   "outputs": [
    {
     "data": {
      "text/plain": [
       "{'power': 1170.039707183838,\n",
       " 'healthcare': 1170.039707183838,\n",
       " 'education': 1170.039707183838,\n",
       " 'telecom': 1170.039707183838,\n",
       " 'mobility': 0.0}"
      ]
     },
     "execution_count": 47,
     "metadata": {},
     "output_type": "execute_result"
    }
   ],
   "source": [
    "# compare with old stats\n",
    "path_stats = path_save_cntry+f'old/base_stats_{iso3}.pkl'\n",
    "with open(path_stats, 'rb') as old_stats_dict:\n",
    "     old_stats_dict = pickle.load(old_stats_dict)\n",
    "old_stats_dict"
   ]
  },
  {
   "cell_type": "code",
   "execution_count": null,
   "id": "670b3e06",
   "metadata": {},
   "outputs": [],
   "source": []
  }
 ],
 "metadata": {
  "kernelspec": {
   "display_name": "Python3.9 (climada_venv)",
   "language": "python",
   "name": "climada_venv"
  },
  "language_info": {
   "codemirror_mode": {
    "name": "ipython",
    "version": 3
   },
   "file_extension": ".py",
   "mimetype": "text/x-python",
   "name": "python",
   "nbconvert_exporter": "python",
   "pygments_lexer": "ipython3",
   "version": "3.9.9"
  }
 },
 "nbformat": 4,
 "nbformat_minor": 5
}
